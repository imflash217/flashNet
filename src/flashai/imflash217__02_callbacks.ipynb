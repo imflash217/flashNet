{
 "cells": [
  {
   "cell_type": "code",
   "execution_count": 1,
   "metadata": {},
   "outputs": [],
   "source": [
    "%load_ext autoreload\n",
    "%autoreload 2\n",
    "%matplotlib inline"
   ]
  },
  {
   "cell_type": "code",
   "execution_count": 2,
   "metadata": {},
   "outputs": [],
   "source": [
    "#export\n",
    "from exp.nb_02_minibatch_training import *"
   ]
  },
  {
   "cell_type": "markdown",
   "metadata": {},
   "source": [
    "# `DataBunch` / `Learner`"
   ]
  },
  {
   "cell_type": "code",
   "execution_count": 25,
   "metadata": {},
   "outputs": [],
   "source": [
    "x_train, y_train, x_valid, y_valid = get_data(url=MNIST_URL)\n",
    "train_ds = Dataset(x_train, y_train)\n",
    "valid_ds = Dataset(x_valid, y_valid)\n",
    "nh = 50\n",
    "bs = 16\n",
    "c = y_train.max().item() + 1\n",
    "loss_fn = F.cross_entropy"
   ]
  },
  {
   "cell_type": "markdown",
   "metadata": {},
   "source": [
    "```\n",
    "Step-1: Factor out the connected pieces of info out of the fit() argument list.\n",
    "        fit(epochs, model, loss_fn, opt, train_dl, valid_dl)\n",
    "Step-2: Replace the above fit() function with something more concise like:\n",
    "        fit(epochs, learner)\n",
    "        \n",
    "This will allow us to tweak what's happening inside the training loop in other places of the code because he Learner() object will be mutable; so changing any of the its attribute will be noticed in our training loop     \n",
    "\n",
    "```"
   ]
  },
  {
   "cell_type": "code",
   "execution_count": 44,
   "metadata": {},
   "outputs": [],
   "source": [
    "#export\n",
    "class DataBunch():\n",
    "    def __init__(self, train_dl, valid_dl, c=None):\n",
    "        self.train_dl = train_dl\n",
    "        self.valid_dl = valid_dl\n",
    "        self.c = c\n",
    "        \n",
    "    @property\n",
    "    def train_ds(self):\n",
    "        return self.train_dl.dataset\n",
    "    \n",
    "    @property\n",
    "    def valid_ds(self):\n",
    "        return self.valid_dl.dataset\n",
    "    "
   ]
  },
  {
   "cell_type": "code",
   "execution_count": 45,
   "metadata": {},
   "outputs": [],
   "source": [
    "data = DataBunch(*get_dls(train_ds=train_ds, valid_ds=valid_ds, bs=bs), c=c)"
   ]
  },
  {
   "cell_type": "code",
   "execution_count": 46,
   "metadata": {},
   "outputs": [],
   "source": [
    "#export\n",
    "def get_model(data, lr=0.5, nh=50):\n",
    "    m = data.train_ds.x.shape[1]\n",
    "    model = torch.nn.Sequential(torch.nn.Linear(m, nh), \n",
    "                                torch.nn.ReLU(),\n",
    "                                torch.nn.Linear(nh, data.c))\n",
    "    return model, optim.SGD(model.parameters(), lr=lr)\n"
   ]
  },
  {
   "cell_type": "code",
   "execution_count": 47,
   "metadata": {},
   "outputs": [],
   "source": [
    "#export\n",
    "class Learner():\n",
    "    def __init__(self, model, opt, loss_fn, data):\n",
    "        self.model   = model\n",
    "        self.opt     = opt\n",
    "        self.loss_fn = loss_fn\n",
    "        self.data    = data\n",
    "        "
   ]
  },
  {
   "cell_type": "code",
   "execution_count": 48,
   "metadata": {},
   "outputs": [],
   "source": [
    "learner = Learner(*get_model(data=data, nh=nh), loss_fn=loss_fn, data=data)"
   ]
  },
  {
   "cell_type": "code",
   "execution_count": 84,
   "metadata": {},
   "outputs": [],
   "source": [
    "def fit(epochs, learner):\n",
    "    num_train = len(learner.data.train_dl)\n",
    "    num_valid = len(learner.data.valid_dl)\n",
    "    print(f\"num_train={num_train}\\t num_valid={num_valid}\")\n",
    "    \n",
    "    for epoch in range(epochs):\n",
    "        loss_train = 0.\n",
    "        loss_valid = 0.\n",
    "        acc_train  = 0.\n",
    "        acc_valid  = 0.\n",
    "        \n",
    "        ### Training phase\n",
    "        learner.model.train()\n",
    "        for xb, yb in learner.data.train_dl:\n",
    "            preds = learner.model(xb)\n",
    "            loss  = loss_fn(input=preds, target=yb)\n",
    "            acc   = accuracy(preds=preds, labels=yb)\n",
    "            \n",
    "            loss.backward()\n",
    "            learner.opt.step()\n",
    "            learner.opt.zero_grad()\n",
    "            \n",
    "            loss_train += loss.item()\n",
    "            acc_train  += acc\n",
    "            \n",
    "        ### Validation Phase\n",
    "        learner.model.eval()\n",
    "        with torch.no_grad():\n",
    "            for xb, yb in learner.data.valid_dl:\n",
    "                preds = learner.model(xb)\n",
    "                loss  = loss_fn(input=preds, target=yb)\n",
    "                acc   = accuracy(preds=preds, labels=yb)\n",
    "\n",
    "                loss_valid += loss.item()\n",
    "                acc_valid  += acc\n",
    "        \n",
    "        print(f\"epoch=[{epoch}/{epochs}]\\t\"\\\n",
    "              f\"loss_train={(loss_train/num_train):.5f}\\t acc_train={(acc_train/num_train):.5f}\\t\"\\\n",
    "              f\"loss_valid={(loss_valid/num_valid):.5f}\\t acc_valid={(acc_valid/num_valid):.5f}\")        \n",
    "    \n",
    "    return loss_train/num_train, acc_train/num_train\n"
   ]
  },
  {
   "cell_type": "code",
   "execution_count": 85,
   "metadata": {},
   "outputs": [
    {
     "name": "stdout",
     "output_type": "stream",
     "text": [
      "num_train=3125\t num_valid=313\n",
      "epoch=[0/2]\tloss_train=0.13000\t acc_train=0.97514\tloss_valid=0.37034\t acc_valid=0.95927\n",
      "epoch=[1/2]\tloss_train=0.11727\t acc_train=0.97704\tloss_valid=0.40302\t acc_valid=0.95737\n"
     ]
    },
    {
     "data": {
      "text/plain": [
       "(0.11726952236815576, tensor(0.9770))"
      ]
     },
     "execution_count": 85,
     "metadata": {},
     "output_type": "execute_result"
    }
   ],
   "source": [
    "fit(epochs=2, learner=learner)"
   ]
  },
  {
   "cell_type": "markdown",
   "metadata": {},
   "source": [
    "# `CallbackHandler`"
   ]
  },
  {
   "cell_type": "markdown",
   "metadata": {},
   "source": [
    "```\n",
    "Because we are performing batchwise operations inside the \"fit()\" function.\n",
    "So, let's create separate function \"one_batch()\" that does our batchwise operation for one batch.\n",
    "\n",
    "NOTE: Add CALLBACKS, so that we can easily remove the complexity of our \"fit()\" function and make it more flexible\n",
    "```"
   ]
  },
  {
   "cell_type": "code",
   "execution_count": 86,
   "metadata": {},
   "outputs": [],
   "source": [
    "def one_batch(xb, yb, cb):\n",
    "    if not cb.begin_batch(xb, yb):\n",
    "        return\n",
    "    preds = cb.learner.model(xb)\n",
    "    loss  = cb.learner.loss_fn(input=preds, target=yb)\n",
    "    if not cb.after_loss(loss):\n",
    "        return\n",
    "    loss.backward()\n",
    "    if cb.after_backward():\n",
    "        cb.learner.opt.step()\n",
    "    if cb.after_step():\n",
    "        cb.learner.opt.zero_grad()\n",
    "\n",
    "def all_batches(dl, cb):\n",
    "    for xb, yb in dl:\n",
    "        one_batch(xb, yb, cb)\n",
    "        if cb.do_stop():\n",
    "            return\n",
    "\n",
    "def fit(epochs, learner, cb):\n",
    "    if not cb.begin_fit(learner):\n",
    "        return\n",
    "    for epoch in range(epochs):\n",
    "        if not cb.begin_epoch(epoch):\n",
    "            continue\n",
    "        all_batches(learner.data.train_dl, cb)\n",
    "        \n",
    "        if cb.begin_validate():\n",
    "            with torch.no_grad():\n",
    "                all_batches(learner.data.valid_dl, cb)\n",
    "        if cb.do_stop() or not cb.after_epoch():\n",
    "            break\n",
    "    cb.after_fit()\n",
    "    "
   ]
  },
  {
   "cell_type": "code",
   "execution_count": 87,
   "metadata": {},
   "outputs": [],
   "source": [
    "class Callback():\n",
    "    def begin_fit(self, learner):\n",
    "        self.learner = learner\n",
    "        return True\n",
    "    \n",
    "    def after_fit(self): return True\n",
    "    \n",
    "    def begin_epoch(self, epoch):\n",
    "        self.epoch = epoch\n",
    "        return True \n",
    "    \n",
    "    def after_epoch(self): return True\n",
    "    \n",
    "    def begin_validate(self):\n",
    "        return True\n",
    "    \n",
    "    def begin_batch(self, xb, yb):\n",
    "        self.xb = xb\n",
    "        self.yb = yb\n",
    "        return True\n",
    "    \n",
    "    def after_loss(self, loss):\n",
    "        self.loss = loss\n",
    "        return True\n",
    "    \n",
    "    def after_backward(self): return True\n",
    "    \n",
    "    def after_step(self): return True\n",
    "    "
   ]
  },
  {
   "cell_type": "code",
   "execution_count": 91,
   "metadata": {},
   "outputs": [],
   "source": [
    "class CallbackHandler():\n",
    "    def __init__(self, cbs=None):\n",
    "        self.cbs = cbs if cbs else []\n",
    "    \n",
    "    def begin_fit(self, learner):\n",
    "        self.learner = learner\n",
    "        self.in_train = True\n",
    "        self.learner.stop = False\n",
    "        result = True\n",
    "        for cb in self.cbs:\n",
    "            result = result and cb.begin_fit(learner)\n",
    "        return result\n",
    "    \n",
    "    def after_fit(self):\n",
    "        result = not self.in_train\n",
    "        for cb in self.cbs:\n",
    "            result = result and cb.after_fit()\n",
    "        return result\n",
    "    \n",
    "    def begin_epoch(self, epoch):\n",
    "        self.learner.model.train()\n",
    "        self.in_train = True\n",
    "        result = True\n",
    "        for cb in self.cbs:\n",
    "            result = result and cb.begin_epoch(epoch)\n",
    "        return result\n",
    "    \n",
    "    def after_epoch(self):\n",
    "        result = True\n",
    "        for cb in self.cbs:\n",
    "            result = result and cb.after_epoch()\n",
    "        return result\n",
    "    \n",
    "    def begin_validate(self):\n",
    "        self.learner.model.eval()\n",
    "        self.in_train = False\n",
    "        result = True\n",
    "        for cb in self.cbs:\n",
    "            result = result and cb.begin_validate()\n",
    "        return result\n",
    "    \n",
    "    def begin_batch(self, xb, yb):\n",
    "        result = True\n",
    "        for cb in self.cbs:\n",
    "            result = result and cb.begin_batch(xb, yb)\n",
    "        return result\n",
    "    \n",
    "    def after_loss(self, loss):\n",
    "        result = self.in_train\n",
    "        for cb in self.cbs:\n",
    "            result = result and cb.after_loss(loss)\n",
    "        return result\n",
    "    \n",
    "    def after_backward(self):\n",
    "        result = True\n",
    "        for cb in self.cbs:\n",
    "            result = result and cb.after_backward()\n",
    "        return result\n",
    "    \n",
    "    def after_step(self):\n",
    "        result = True\n",
    "        for cb in self.cbs:\n",
    "            result = result and cb.after_step()\n",
    "        return result\n",
    "    \n",
    "    def do_stop(self):\n",
    "        try:\n",
    "            return self.learner.stop\n",
    "        finally:\n",
    "            self.learner.stop = False\n"
   ]
  },
  {
   "cell_type": "code",
   "execution_count": 96,
   "metadata": {},
   "outputs": [],
   "source": [
    "class TestCallback(Callback):\n",
    "    def begin_fit(self, learner):\n",
    "        super().begin_fit(learner)\n",
    "        self.n_iters = 0\n",
    "        return True\n",
    "    \n",
    "    def after_step(self):\n",
    "        self.n_iters += 1\n",
    "        print(f\"n_iters = {self.n_iters}\")\n",
    "        if self.n_iters >= 10:\n",
    "            self.learner.stop = True\n",
    "        return True\n",
    "    "
   ]
  },
  {
   "cell_type": "code",
   "execution_count": 97,
   "metadata": {},
   "outputs": [
    {
     "name": "stdout",
     "output_type": "stream",
     "text": [
      "n_iters = 1\n",
      "n_iters = 2\n",
      "n_iters = 3\n",
      "n_iters = 4\n",
      "n_iters = 5\n",
      "n_iters = 6\n",
      "n_iters = 7\n",
      "n_iters = 8\n",
      "n_iters = 9\n",
      "n_iters = 10\n"
     ]
    }
   ],
   "source": [
    "fit(epochs=1, learner=learner, cb=CallbackHandler([TestCallback()]))"
   ]
  },
  {
   "cell_type": "markdown",
   "metadata": {},
   "source": [
    "```\n",
    "This is roughly how \"fastai\" does it for now (except that the \"CallbackHandler()\" can also modify and return \"xb\", \"yb\" and \"loss\").\n",
    "\n",
    "We will try to create a single class that has access to everything and can change at any time.\n",
    "The fact that we're passing \"cb\" to so many functions is a hint that they all should be in the same class!!!\n",
    "We will call this class \"Runner()\" !!!\n",
    "```"
   ]
  },
  {
   "cell_type": "markdown",
   "metadata": {},
   "source": [
    "# `Runner`"
   ]
  },
  {
   "cell_type": "code",
   "execution_count": null,
   "metadata": {},
   "outputs": [],
   "source": []
  },
  {
   "cell_type": "code",
   "execution_count": null,
   "metadata": {},
   "outputs": [],
   "source": []
  },
  {
   "cell_type": "code",
   "execution_count": null,
   "metadata": {},
   "outputs": [],
   "source": []
  }
 ],
 "metadata": {
  "kernelspec": {
   "display_name": "Python 3",
   "language": "python",
   "name": "python3"
  },
  "language_info": {
   "codemirror_mode": {
    "name": "ipython",
    "version": 3
   },
   "file_extension": ".py",
   "mimetype": "text/x-python",
   "name": "python",
   "nbconvert_exporter": "python",
   "pygments_lexer": "ipython3",
   "version": "3.7.4"
  },
  "latex_envs": {
   "LaTeX_envs_menu_present": true,
   "autoclose": false,
   "autocomplete": true,
   "bibliofile": "biblio.bib",
   "cite_by": "apalike",
   "current_citInitial": 1,
   "eqLabelWithNumbers": true,
   "eqNumInitial": 1,
   "hotkeys": {
    "equation": "Ctrl-E",
    "itemize": "Ctrl-I"
   },
   "labels_anchors": false,
   "latex_user_defs": false,
   "report_style_numbering": false,
   "user_envs_cfg": false
  }
 },
 "nbformat": 4,
 "nbformat_minor": 2
}
