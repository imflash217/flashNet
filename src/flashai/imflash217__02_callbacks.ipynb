{
 "cells": [
  {
   "cell_type": "code",
   "execution_count": 4,
   "metadata": {},
   "outputs": [],
   "source": [
    "%load_ext autoreload\n",
    "%autoreload 2\n",
    "%matplotlib inline"
   ]
  },
  {
   "cell_type": "code",
   "execution_count": 5,
   "metadata": {},
   "outputs": [],
   "source": [
    "#export\n",
    "from exp.nb_02_minibatch_training import *"
   ]
  },
  {
   "cell_type": "markdown",
   "metadata": {},
   "source": [
    "# `DataBunch` / `Learner`"
   ]
  },
  {
   "cell_type": "code",
   "execution_count": 25,
   "metadata": {},
   "outputs": [],
   "source": [
    "x_train, y_train, x_valid, y_valid = get_data(url=MNIST_URL)\n",
    "train_ds = Dataset(x_train, y_train)\n",
    "valid_ds = Dataset(x_valid, y_valid)\n",
    "nh = 50\n",
    "bs = 16\n",
    "c = y_train.max().item() + 1\n",
    "loss_fn = F.cross_entropy"
   ]
  },
  {
   "cell_type": "markdown",
   "metadata": {},
   "source": [
    "```\n",
    "Step-1: Factor out the connected pieces of info out of the fit() argument list.\n",
    "        fit(epochs, model, loss_fn, opt, train_dl, valid_dl)\n",
    "Step-2: Replace the above fit() function with something more concise like:\n",
    "        fit(epochs, learner)\n",
    "        \n",
    "This will allow us to tweak what's happening inside the training loop in other places of the code because he Learner() object will be mutable; so changing any of the its attribute will be noticed in our training loop     \n",
    "\n",
    "```"
   ]
  },
  {
   "cell_type": "code",
   "execution_count": 6,
   "metadata": {},
   "outputs": [],
   "source": [
    "#export\n",
    "class DataBunch():\n",
    "    def __init__(self, train_dl, valid_dl, c=None):\n",
    "        self.train_dl = train_dl\n",
    "        self.valid_dl = valid_dl\n",
    "        self.c = c\n",
    "        \n",
    "    @property\n",
    "    def train_ds(self):\n",
    "        return self.train_dl.dataset\n",
    "    \n",
    "    @property\n",
    "    def valid_ds(self):\n",
    "        return self.valid_dl.dataset\n",
    "    "
   ]
  },
  {
   "cell_type": "code",
   "execution_count": 45,
   "metadata": {},
   "outputs": [],
   "source": [
    "data = DataBunch(*get_dls(train_ds=train_ds, valid_ds=valid_ds, bs=bs), c=c)"
   ]
  },
  {
   "cell_type": "code",
   "execution_count": 7,
   "metadata": {},
   "outputs": [],
   "source": [
    "#export\n",
    "def get_model(data, lr=0.5, nh=50):\n",
    "    m = data.train_ds.x.shape[1]\n",
    "    model = torch.nn.Sequential(torch.nn.Linear(m, nh), \n",
    "                                torch.nn.ReLU(),\n",
    "                                torch.nn.Linear(nh, data.c))\n",
    "    return model, optim.SGD(model.parameters(), lr=lr)\n"
   ]
  },
  {
   "cell_type": "code",
   "execution_count": 8,
   "metadata": {},
   "outputs": [],
   "source": [
    "#export\n",
    "class Learner():\n",
    "    def __init__(self, model, opt, loss_fn, data):\n",
    "        self.model   = model\n",
    "        self.opt     = opt\n",
    "        self.loss_fn = loss_fn\n",
    "        self.data    = data\n",
    "        "
   ]
  },
  {
   "cell_type": "code",
   "execution_count": 48,
   "metadata": {},
   "outputs": [],
   "source": [
    "learner = Learner(*get_model(data=data, nh=nh), loss_fn=loss_fn, data=data)"
   ]
  },
  {
   "cell_type": "code",
   "execution_count": 84,
   "metadata": {},
   "outputs": [],
   "source": [
    "def fit(epochs, learner):\n",
    "    num_train = len(learner.data.train_dl)\n",
    "    num_valid = len(learner.data.valid_dl)\n",
    "    print(f\"num_train={num_train}\\t num_valid={num_valid}\")\n",
    "    \n",
    "    for epoch in range(epochs):\n",
    "        loss_train = 0.\n",
    "        loss_valid = 0.\n",
    "        acc_train  = 0.\n",
    "        acc_valid  = 0.\n",
    "        \n",
    "        ### Training phase\n",
    "        learner.model.train()\n",
    "        for xb, yb in learner.data.train_dl:\n",
    "            preds = learner.model(xb)\n",
    "            loss  = loss_fn(input=preds, target=yb)\n",
    "            acc   = accuracy(preds=preds, labels=yb)\n",
    "            \n",
    "            loss.backward()\n",
    "            learner.opt.step()\n",
    "            learner.opt.zero_grad()\n",
    "            \n",
    "            loss_train += loss.item()\n",
    "            acc_train  += acc\n",
    "            \n",
    "        ### Validation Phase\n",
    "        learner.model.eval()\n",
    "        with torch.no_grad():\n",
    "            for xb, yb in learner.data.valid_dl:\n",
    "                preds = learner.model(xb)\n",
    "                loss  = loss_fn(input=preds, target=yb)\n",
    "                acc   = accuracy(preds=preds, labels=yb)\n",
    "\n",
    "                loss_valid += loss.item()\n",
    "                acc_valid  += acc\n",
    "        \n",
    "        print(f\"epoch=[{epoch}/{epochs}]\\t\"\\\n",
    "              f\"loss_train={(loss_train/num_train):.5f}\\t acc_train={(acc_train/num_train):.5f}\\t\"\\\n",
    "              f\"loss_valid={(loss_valid/num_valid):.5f}\\t acc_valid={(acc_valid/num_valid):.5f}\")        \n",
    "    \n",
    "    return loss_train/num_train, acc_train/num_train\n"
   ]
  },
  {
   "cell_type": "code",
   "execution_count": 85,
   "metadata": {},
   "outputs": [
    {
     "name": "stdout",
     "output_type": "stream",
     "text": [
      "num_train=3125\t num_valid=313\n",
      "epoch=[0/2]\tloss_train=0.13000\t acc_train=0.97514\tloss_valid=0.37034\t acc_valid=0.95927\n",
      "epoch=[1/2]\tloss_train=0.11727\t acc_train=0.97704\tloss_valid=0.40302\t acc_valid=0.95737\n"
     ]
    },
    {
     "data": {
      "text/plain": [
       "(0.11726952236815576, tensor(0.9770))"
      ]
     },
     "execution_count": 85,
     "metadata": {},
     "output_type": "execute_result"
    }
   ],
   "source": [
    "fit(epochs=2, learner=learner)"
   ]
  },
  {
   "cell_type": "markdown",
   "metadata": {},
   "source": [
    "# `CallbackHandler`"
   ]
  },
  {
   "cell_type": "markdown",
   "metadata": {},
   "source": [
    "```\n",
    "Because we are performing batchwise operations inside the \"fit()\" function.\n",
    "So, let's create separate function \"one_batch()\" that does our batchwise operation for one batch.\n",
    "\n",
    "NOTE: Add CALLBACKS, so that we can easily remove the complexity of our \"fit()\" function and make it more flexible\n",
    "```"
   ]
  },
  {
   "cell_type": "code",
   "execution_count": 86,
   "metadata": {},
   "outputs": [],
   "source": [
    "def one_batch(xb, yb, cb):\n",
    "    if not cb.begin_batch(xb, yb):\n",
    "        return\n",
    "    preds = cb.learner.model(xb)\n",
    "    loss  = cb.learner.loss_fn(input=preds, target=yb)\n",
    "    if not cb.after_loss(loss):\n",
    "        return\n",
    "    loss.backward()\n",
    "    if cb.after_backward():\n",
    "        cb.learner.opt.step()\n",
    "    if cb.after_step():\n",
    "        cb.learner.opt.zero_grad()\n",
    "\n",
    "def all_batches(dl, cb):\n",
    "    for xb, yb in dl:\n",
    "        one_batch(xb, yb, cb)\n",
    "        if cb.do_stop():\n",
    "            return\n",
    "\n",
    "def fit(epochs, learner, cb):\n",
    "    if not cb.begin_fit(learner):\n",
    "        return\n",
    "    for epoch in range(epochs):\n",
    "        if not cb.begin_epoch(epoch):\n",
    "            continue\n",
    "        all_batches(learner.data.train_dl, cb)\n",
    "        \n",
    "        if cb.begin_validate():\n",
    "            with torch.no_grad():\n",
    "                all_batches(learner.data.valid_dl, cb)\n",
    "        if cb.do_stop() or not cb.after_epoch():\n",
    "            break\n",
    "    cb.after_fit()\n",
    "    "
   ]
  },
  {
   "cell_type": "code",
   "execution_count": 87,
   "metadata": {},
   "outputs": [],
   "source": [
    "class Callback():\n",
    "    def begin_fit(self, learner):\n",
    "        self.learner = learner\n",
    "        return True\n",
    "    \n",
    "    def after_fit(self): return True\n",
    "    \n",
    "    def begin_epoch(self, epoch):\n",
    "        self.epoch = epoch\n",
    "        return True \n",
    "    \n",
    "    def after_epoch(self): return True\n",
    "    \n",
    "    def begin_validate(self):\n",
    "        return True\n",
    "    \n",
    "    def begin_batch(self, xb, yb):\n",
    "        self.xb = xb\n",
    "        self.yb = yb\n",
    "        return True\n",
    "    \n",
    "    def after_loss(self, loss):\n",
    "        self.loss = loss\n",
    "        return True\n",
    "    \n",
    "    def after_backward(self): return True\n",
    "    \n",
    "    def after_step(self): return True\n",
    "    "
   ]
  },
  {
   "cell_type": "code",
   "execution_count": 91,
   "metadata": {},
   "outputs": [],
   "source": [
    "class CallbackHandler():\n",
    "    def __init__(self, cbs=None):\n",
    "        self.cbs = cbs if cbs else []\n",
    "    \n",
    "    def begin_fit(self, learner):\n",
    "        self.learner = learner\n",
    "        self.in_train = True\n",
    "        self.learner.stop = False\n",
    "        result = True\n",
    "        for cb in self.cbs:\n",
    "            result = result and cb.begin_fit(learner)\n",
    "        return result\n",
    "    \n",
    "    def after_fit(self):\n",
    "        result = not self.in_train\n",
    "        for cb in self.cbs:\n",
    "            result = result and cb.after_fit()\n",
    "        return result\n",
    "    \n",
    "    def begin_epoch(self, epoch):\n",
    "        self.learner.model.train()\n",
    "        self.in_train = True\n",
    "        result = True\n",
    "        for cb in self.cbs:\n",
    "            result = result and cb.begin_epoch(epoch)\n",
    "        return result\n",
    "    \n",
    "    def after_epoch(self):\n",
    "        result = True\n",
    "        for cb in self.cbs:\n",
    "            result = result and cb.after_epoch()\n",
    "        return result\n",
    "    \n",
    "    def begin_validate(self):\n",
    "        self.learner.model.eval()\n",
    "        self.in_train = False\n",
    "        result = True\n",
    "        for cb in self.cbs:\n",
    "            result = result and cb.begin_validate()\n",
    "        return result\n",
    "    \n",
    "    def begin_batch(self, xb, yb):\n",
    "        result = True\n",
    "        for cb in self.cbs:\n",
    "            result = result and cb.begin_batch(xb, yb)\n",
    "        return result\n",
    "    \n",
    "    def after_loss(self, loss):\n",
    "        result = self.in_train\n",
    "        for cb in self.cbs:\n",
    "            result = result and cb.after_loss(loss)\n",
    "        return result\n",
    "    \n",
    "    def after_backward(self):\n",
    "        result = True\n",
    "        for cb in self.cbs:\n",
    "            result = result and cb.after_backward()\n",
    "        return result\n",
    "    \n",
    "    def after_step(self):\n",
    "        result = True\n",
    "        for cb in self.cbs:\n",
    "            result = result and cb.after_step()\n",
    "        return result\n",
    "    \n",
    "    def do_stop(self):\n",
    "        try:\n",
    "            return self.learner.stop\n",
    "        finally:\n",
    "            self.learner.stop = False\n"
   ]
  },
  {
   "cell_type": "code",
   "execution_count": 96,
   "metadata": {},
   "outputs": [],
   "source": [
    "class TestCallback(Callback):\n",
    "    def begin_fit(self, learner):\n",
    "        super().begin_fit(learner)\n",
    "        self.n_iters = 0\n",
    "        return True\n",
    "    \n",
    "    def after_step(self):\n",
    "        self.n_iters += 1\n",
    "        print(f\"n_iters = {self.n_iters}\")\n",
    "        if self.n_iters >= 10:\n",
    "            self.learner.stop = True\n",
    "        return True\n",
    "    "
   ]
  },
  {
   "cell_type": "code",
   "execution_count": 97,
   "metadata": {},
   "outputs": [
    {
     "name": "stdout",
     "output_type": "stream",
     "text": [
      "n_iters = 1\n",
      "n_iters = 2\n",
      "n_iters = 3\n",
      "n_iters = 4\n",
      "n_iters = 5\n",
      "n_iters = 6\n",
      "n_iters = 7\n",
      "n_iters = 8\n",
      "n_iters = 9\n",
      "n_iters = 10\n"
     ]
    }
   ],
   "source": [
    "fit(epochs=1, learner=learner, cb=CallbackHandler([TestCallback()]))"
   ]
  },
  {
   "cell_type": "markdown",
   "metadata": {},
   "source": [
    "```\n",
    "This is roughly how \"fastai\" does it for now (except that the \"CallbackHandler()\" can also modify and return \"xb\", \"yb\" and \"loss\").\n",
    "\n",
    "We will try to create a single class that has access to everything and can change at any time.\n",
    "The fact that we're passing \"cb\" to so many functions is a hint that they all should be in the same class!!!\n",
    "We will call this class \"Runner()\" !!!\n",
    "```"
   ]
  },
  {
   "cell_type": "markdown",
   "metadata": {},
   "source": [
    "# `Runner`"
   ]
  },
  {
   "cell_type": "code",
   "execution_count": 9,
   "metadata": {},
   "outputs": [],
   "source": [
    "#export\n",
    "import re\n",
    "\n",
    "_camel_re1 = re.compile('(.)([A-Z][a-z]+)')\n",
    "_camel_re2 = re.compile('([a-z0-9])([A-Z])')\n",
    "\n",
    "def camel2snake(name):\n",
    "    s1 = re.sub(_camel_re1, r'\\1_\\2', name)\n",
    "    return re.sub(_camel_re2, r'\\1_\\2', s1).lower()\n",
    "\n",
    "class Callback():\n",
    "    _order = 0\n",
    "    def set_runner(self, run):\n",
    "        self.run = run\n",
    "    def __getattr__(self, key):\n",
    "        return getattr(self.run, key)\n",
    "    \n",
    "    @property\n",
    "    def name(self):\n",
    "        name = re.sub(r'Callback$', '', self.__class__.__name__)\n",
    "        return camel2snake(name or 'callback')\n",
    "    "
   ]
  },
  {
   "cell_type": "code",
   "execution_count": 10,
   "metadata": {},
   "outputs": [],
   "source": [
    "#export\n",
    "class TrainEvalCallback(Callback):\n",
    "    \"\"\"\n",
    "    This callback is resposnsible to switch the model back and forth\n",
    "    in training and validation mode, as well as maintaining the count\n",
    "    of the total numbe rof iterations or %age of iterations elapsed in the epoch\n",
    "    \"\"\"\n",
    "    \n",
    "    def begin_fit(self):\n",
    "        self.run.n_epochs = 0.\n",
    "        self.run.n_iters  = 0\n",
    "        \n",
    "    def after_batch(self):\n",
    "        if not self.in_train:\n",
    "            return\n",
    "        self.run.n_epochs += 1./self.iters\n",
    "        self.run.n_iters  += 1\n",
    "        \n",
    "    def begin_epoch(self):\n",
    "        self.run.n_epochs = self.epoch\n",
    "        self.model.train()\n",
    "        self.run.in_train = True\n",
    "        \n",
    "    def begin_validate(self):\n",
    "        self.model.eval()\n",
    "        self.run.in_train = False\n",
    "        "
   ]
  },
  {
   "cell_type": "markdown",
   "metadata": {},
   "source": [
    "```Recreating our TestCallback```"
   ]
  },
  {
   "cell_type": "code",
   "execution_count": 111,
   "metadata": {},
   "outputs": [],
   "source": [
    "class TestCallback(Callback):\n",
    "    def after_step(self):\n",
    "        if self.train_eval.n_iters >= 10:\n",
    "            return True"
   ]
  },
  {
   "cell_type": "code",
   "execution_count": 112,
   "metadata": {},
   "outputs": [
    {
     "data": {
      "text/plain": [
       "'train_eval_callback'"
      ]
     },
     "execution_count": 112,
     "metadata": {},
     "output_type": "execute_result"
    }
   ],
   "source": [
    "cbname = 'TrainEvalCallback'\n",
    "camel2snake(cbname)"
   ]
  },
  {
   "cell_type": "code",
   "execution_count": 115,
   "metadata": {},
   "outputs": [
    {
     "data": {
      "text/plain": [
       "'train_eval'"
      ]
     },
     "execution_count": 115,
     "metadata": {},
     "output_type": "execute_result"
    }
   ],
   "source": [
    "TrainEvalCallback().name"
   ]
  },
  {
   "cell_type": "code",
   "execution_count": 119,
   "metadata": {},
   "outputs": [
    {
     "data": {
      "text/plain": [
       "'lilashah'"
      ]
     },
     "execution_count": 119,
     "metadata": {},
     "output_type": "execute_result"
    }
   ],
   "source": [
    "class Lilashah(Callback):\n",
    "    pass\n",
    "a = Lilashah()\n",
    "a.name"
   ]
  },
  {
   "cell_type": "code",
   "execution_count": 11,
   "metadata": {},
   "outputs": [],
   "source": [
    "#export\n",
    "from typing import *\n",
    "\n",
    "def listify(o):\n",
    "    if o is None: return []\n",
    "    if isinstance(o, list): return o\n",
    "    if isinstance(o, str):  return [o]\n",
    "    if isinstance(o, Iterable): return list(o)\n",
    "    return [o]\n"
   ]
  },
  {
   "cell_type": "code",
   "execution_count": 12,
   "metadata": {},
   "outputs": [],
   "source": [
    "#export\n",
    "class Runner():\n",
    "    def __init__(self, cbs=None, cb_funcs=None):\n",
    "        cbs = listify(cbs)\n",
    "        for cbf in listify(cb_funcs):\n",
    "            cb = cbf()\n",
    "            setattr(self, cb.name, cb)\n",
    "            cbs.append(cb)\n",
    "        self.stop = False\n",
    "        self.cbs = cbs + [TrainEvalCallback()]\n",
    "    \n",
    "    @property\n",
    "    def opt(self):       return self.learner.opt\n",
    "    @property\n",
    "    def model(self):     return self.learner.model\n",
    "    @property\n",
    "    def loss_func(self): return self.learner.loss_fn\n",
    "    @property\n",
    "    def data(self):      return self.learner.data\n",
    "    \n",
    "    def one_batch(self, xb, yb):\n",
    "        self.xb = xb\n",
    "        self.yb = yb\n",
    "        if self(\"begin_batch\"):\n",
    "            return\n",
    "        self.pred = self.model(self.xb)\n",
    "        if self(\"after_pred\"):\n",
    "            return\n",
    "        self.loss = self.loss_func(self.pred, self.yb)\n",
    "        if self(\"after_loss\") or not self.in_train:\n",
    "            return\n",
    "        self.loss.backward()\n",
    "        if self(\"after_backward\"):\n",
    "            return\n",
    "        self.opt.step()\n",
    "        if self(\"after_step\"):\n",
    "            return\n",
    "        self.opt.zero_grad()\n",
    "        \n",
    "    def all_batches(self, dl):\n",
    "        self.iters = len(dl)\n",
    "        for xb, yb in dl:\n",
    "            if self.stop:\n",
    "                break\n",
    "            self.one_batch(xb, yb)\n",
    "            self(\"after_batch\")\n",
    "        self.stop = False\n",
    "        \n",
    "    def fit(self, epochs, learner):\n",
    "        self.epochs  = epochs\n",
    "        self.learner = learner\n",
    "        \n",
    "        try:\n",
    "            for cb in self.cbs:\n",
    "                cb.set_runner(run=self)\n",
    "            if self(\"begin_fit\"):\n",
    "                return\n",
    "            for epoch in range(self.epochs):\n",
    "                self.epoch = epoch\n",
    "                \n",
    "                ### Training Phase\n",
    "                if not self(\"begin_epoch\"):\n",
    "                    self.all_batches(dl=self.data.train_dl)\n",
    "                    \n",
    "                ### Validation Phase\n",
    "                with torch.no_grad():\n",
    "                    if not self(\"begin_validate\"):\n",
    "                        self.all_batches(dl=self.data.valid_dl)\n",
    "                \n",
    "                if self(\"after_epoch\"): break\n",
    "                    \n",
    "        finally:\n",
    "            self(\"after_fit\")\n",
    "            self.learner = None\n",
    "        \n",
    "    def __call__(self, cb_name):\n",
    "        \"\"\"This is the code which also takes care of calling self(*)\"\"\"\n",
    "        for cb in sorted(self.cbs, key=lambda x: x._order):\n",
    "            f = getattr(cb, cb_name, None)                    ### equivalent to \"cb.cb_name\"; default is None\n",
    "            if f and f():\n",
    "                return True\n",
    "        return False\n"
   ]
  },
  {
   "cell_type": "markdown",
   "metadata": {},
   "source": [
    "### We will also define a new `Callback` that calculates and stores the `metrics`"
   ]
  },
  {
   "cell_type": "code",
   "execution_count": 17,
   "metadata": {},
   "outputs": [],
   "source": [
    "#export\n",
    "class AvgStats():\n",
    "    def __init__(self, metrics, in_train):\n",
    "        self.metrics  = listify(metrics)\n",
    "        self.in_train = in_train\n",
    "    \n",
    "    def reset(self):\n",
    "        self.tot_loss = 0.\n",
    "        self.count    = 0\n",
    "        self.tot_mets = [0.] * len(self.metrics)\n",
    "        \n",
    "    @property\n",
    "    def all_stats(self):\n",
    "        return [self.tot_loss.item()] + self.tot_mets      ### keeping loss at the begining\n",
    "    \n",
    "    @property\n",
    "    def avg_stats(self):\n",
    "        return [o/self.count for o in self.all_stats]\n",
    "    \n",
    "    def __repr__(self):\n",
    "        if not self.count: \n",
    "            return \"\"\n",
    "        return f\"{'train: ' if self.in_train else 'valid: '}{self.avg_stats}\"\n",
    "    \n",
    "    def accumulate(self, run):\n",
    "        bn = run.xb.shape[0]\n",
    "        ### print(f\"bn={bn}\")\n",
    "        self.tot_loss += run.loss * bn\n",
    "        ### print(f\"run.loss, *bn = {run.loss}, {run.loss*bn}, self.tot_loss={self.tot_loss}\")\n",
    "        self.count    += bn\n",
    "        ### print(f\"bn={bn}, self.count={self.count}\")\n",
    "        for i, m in enumerate(self.metrics):\n",
    "            self.tot_mets[i] += m(run.pred, run.yb) * bn\n",
    "                  "
   ]
  },
  {
   "cell_type": "code",
   "execution_count": 14,
   "metadata": {},
   "outputs": [],
   "source": [
    "#export\n",
    "class AvgStatsCallback(Callback):\n",
    "    def __init__(self, metrics):\n",
    "        self.train_stats = AvgStats(metrics=metrics, in_train=True)\n",
    "        self.valid_stats = AvgStats(metrics=metrics, in_train=False)\n",
    "        \n",
    "    def begin_epoch(self):\n",
    "        self.train_stats.reset()\n",
    "        self.valid_stats.reset()\n",
    "        \n",
    "    def after_loss(self):\n",
    "        stats = self.train_stats if self.in_train else self.valid_stats\n",
    "        with torch.no_grad():\n",
    "            stats.accumulate(self.run)\n",
    "    \n",
    "    def after_epoch(self):\n",
    "        print(f\"epoch=[{self.epoch+1}/{self.epochs}]:\\t\"\\\n",
    "              f\"{self.train_stats}\\t\"\\\n",
    "              f\"{self.valid_stats}\")        \n",
    "        "
   ]
  },
  {
   "cell_type": "code",
   "execution_count": 194,
   "metadata": {},
   "outputs": [],
   "source": [
    "learner = Learner(*get_model(data), loss_fn=loss_fn, data=data)"
   ]
  },
  {
   "cell_type": "code",
   "execution_count": 195,
   "metadata": {},
   "outputs": [],
   "source": [
    "stats_callback = AvgStatsCallback(metrics=[accuracy])\n",
    "run = Runner(cbs=stats_callback)"
   ]
  },
  {
   "cell_type": "code",
   "execution_count": 196,
   "metadata": {},
   "outputs": [
    {
     "name": "stdout",
     "output_type": "stream",
     "text": [
      "epoch=[1/10]:\ttrain: [0.352652265625, tensor(0.8952)]\tvalid: [0.19010003662109376, tensor(0.9476)]\n",
      "epoch=[2/10]:\ttrain: [0.22287244140625, tensor(0.9384)]\tvalid: [0.2015393798828125, tensor(0.9490)]\n",
      "epoch=[3/10]:\ttrain: [0.18968974609375, tensor(0.9483)]\tvalid: [0.17097882080078125, tensor(0.9548)]\n",
      "epoch=[4/10]:\ttrain: [0.17522892578125, tensor(0.9527)]\tvalid: [0.2025575439453125, tensor(0.9510)]\n",
      "epoch=[5/10]:\ttrain: [0.15616833984375, tensor(0.9576)]\tvalid: [0.18590245361328125, tensor(0.9590)]\n",
      "epoch=[6/10]:\ttrain: [0.154144111328125, tensor(0.9591)]\tvalid: [0.1937948486328125, tensor(0.9512)]\n",
      "epoch=[7/10]:\ttrain: [0.14499212890625, tensor(0.9618)]\tvalid: [0.2222896484375, tensor(0.9498)]\n",
      "epoch=[8/10]:\ttrain: [0.141550615234375, tensor(0.9631)]\tvalid: [0.19589769287109374, tensor(0.9612)]\n",
      "epoch=[9/10]:\ttrain: [0.132174140625, tensor(0.9656)]\tvalid: [0.178992431640625, tensor(0.9599)]\n",
      "epoch=[10/10]:\ttrain: [0.125562392578125, tensor(0.9671)]\tvalid: [0.2078744384765625, tensor(0.9554)]\n"
     ]
    }
   ],
   "source": [
    "run.fit(epochs=10, learner=learner)"
   ]
  },
  {
   "cell_type": "code",
   "execution_count": 197,
   "metadata": {},
   "outputs": [
    {
     "data": {
      "text/plain": [
       "(0.2078744384765625, tensor(0.9554))"
      ]
     },
     "execution_count": 197,
     "metadata": {},
     "output_type": "execute_result"
    }
   ],
   "source": [
    "loss, acc = stats_callback.valid_stats.avg_stats\n",
    "assert acc > 0.9\n",
    "loss, acc"
   ]
  },
  {
   "cell_type": "code",
   "execution_count": 15,
   "metadata": {},
   "outputs": [],
   "source": [
    "#export\n",
    "from functools import partial"
   ]
  },
  {
   "cell_type": "code",
   "execution_count": 199,
   "metadata": {},
   "outputs": [],
   "source": [
    "acc_cbf = partial(AvgStatsCallback, accuracy)"
   ]
  },
  {
   "cell_type": "code",
   "execution_count": 200,
   "metadata": {},
   "outputs": [],
   "source": [
    "run = Runner(cb_funcs=acc_cbf)"
   ]
  },
  {
   "cell_type": "code",
   "execution_count": 201,
   "metadata": {},
   "outputs": [
    {
     "name": "stdout",
     "output_type": "stream",
     "text": [
      "epoch=[1/10]:\ttrain: [0.118866552734375, tensor(0.9687)]\tvalid: [0.2063460693359375, tensor(0.9603)]\n",
      "epoch=[2/10]:\ttrain: [0.118847275390625, tensor(0.9684)]\tvalid: [0.1939995849609375, tensor(0.9649)]\n",
      "epoch=[3/10]:\ttrain: [0.1194039453125, tensor(0.9700)]\tvalid: [0.1944792724609375, tensor(0.9600)]\n",
      "epoch=[4/10]:\ttrain: [0.110375224609375, tensor(0.9716)]\tvalid: [0.2286935791015625, tensor(0.9639)]\n",
      "epoch=[5/10]:\ttrain: [0.117085712890625, tensor(0.9720)]\tvalid: [0.216303955078125, tensor(0.9606)]\n",
      "epoch=[6/10]:\ttrain: [0.116471416015625, tensor(0.9708)]\tvalid: [0.2146708984375, tensor(0.9613)]\n",
      "epoch=[7/10]:\ttrain: [0.104412548828125, tensor(0.9744)]\tvalid: [0.2509157958984375, tensor(0.9538)]\n",
      "epoch=[8/10]:\ttrain: [0.106003193359375, tensor(0.9743)]\tvalid: [0.2588849609375, tensor(0.9550)]\n",
      "epoch=[9/10]:\ttrain: [0.110430322265625, tensor(0.9735)]\tvalid: [0.229987744140625, tensor(0.9618)]\n",
      "epoch=[10/10]:\ttrain: [0.105829072265625, tensor(0.9741)]\tvalid: [0.2536258544921875, tensor(0.9582)]\n"
     ]
    }
   ],
   "source": [
    "run.fit(epochs=10, learner=learner)"
   ]
  },
  {
   "cell_type": "code",
   "execution_count": 202,
   "metadata": {},
   "outputs": [
    {
     "data": {
      "text/plain": [
       "[0.2536258544921875, tensor(0.9582)]"
      ]
     },
     "execution_count": 202,
     "metadata": {},
     "output_type": "execute_result"
    }
   ],
   "source": [
    "run.avg_stats.valid_stats.avg_stats"
   ]
  },
  {
   "cell_type": "code",
   "execution_count": null,
   "metadata": {},
   "outputs": [],
   "source": []
  },
  {
   "cell_type": "markdown",
   "metadata": {},
   "source": [
    "# Export"
   ]
  },
  {
   "cell_type": "code",
   "execution_count": 18,
   "metadata": {},
   "outputs": [
    {
     "name": "stdout",
     "output_type": "stream",
     "text": [
      "Converted imflash217__02_callbacks.ipynb to exp/nb_02_callbacks.py\r\n",
      "Converted imflash217__02_callbacks.ipynb to exp/nb_02_callbacks.py\r\n",
      "Converted imflash217__02_callbacks.ipynb to exp/nb_02_callbacks.py\r\n",
      "Converted imflash217__02_callbacks.ipynb to exp/nb_02_callbacks.py\r\n",
      "Converted imflash217__02_callbacks.ipynb to exp/nb_02_callbacks.py\r\n",
      "Converted imflash217__02_callbacks.ipynb to exp/nb_02_callbacks.py\r\n",
      "Converted imflash217__02_callbacks.ipynb to exp/nb_02_callbacks.py\r\n",
      "Converted imflash217__02_callbacks.ipynb to exp/nb_02_callbacks.py\r\n",
      "Converted imflash217__02_callbacks.ipynb to exp/nb_02_callbacks.py\r\n",
      "Converted imflash217__02_callbacks.ipynb to exp/nb_02_callbacks.py\r\n",
      "Converted imflash217__02_callbacks.ipynb to exp/nb_02_callbacks.py\r\n"
     ]
    }
   ],
   "source": [
    "!python notebook_to_script.py imflash217__02_callbacks.ipynb"
   ]
  },
  {
   "cell_type": "code",
   "execution_count": null,
   "metadata": {},
   "outputs": [],
   "source": []
  }
 ],
 "metadata": {
  "kernelspec": {
   "display_name": "Python 3",
   "language": "python",
   "name": "python3"
  },
  "language_info": {
   "codemirror_mode": {
    "name": "ipython",
    "version": 3
   },
   "file_extension": ".py",
   "mimetype": "text/x-python",
   "name": "python",
   "nbconvert_exporter": "python",
   "pygments_lexer": "ipython3",
   "version": "3.7.4"
  },
  "latex_envs": {
   "LaTeX_envs_menu_present": true,
   "autoclose": false,
   "autocomplete": true,
   "bibliofile": "biblio.bib",
   "cite_by": "apalike",
   "current_citInitial": 1,
   "eqLabelWithNumbers": true,
   "eqNumInitial": 1,
   "hotkeys": {
    "equation": "Ctrl-E",
    "itemize": "Ctrl-I"
   },
   "labels_anchors": false,
   "latex_user_defs": false,
   "report_style_numbering": false,
   "user_envs_cfg": false
  },
  "toc": {
   "base_numbering": 1,
   "nav_menu": {},
   "number_sections": true,
   "sideBar": true,
   "skip_h1_title": false,
   "title_cell": "Table of Contents",
   "title_sidebar": "Contents",
   "toc_cell": false,
   "toc_position": {},
   "toc_section_display": true,
   "toc_window_display": false
  }
 },
 "nbformat": 4,
 "nbformat_minor": 2
}
