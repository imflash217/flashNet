{
 "cells": [
  {
   "cell_type": "code",
   "execution_count": 1,
   "metadata": {},
   "outputs": [],
   "source": [
    "%load_ext autoreload\n",
    "%autoreload 2\n",
    "\n",
    "%matplotlib inline"
   ]
  },
  {
   "cell_type": "code",
   "execution_count": 2,
   "metadata": {},
   "outputs": [],
   "source": [
    "#export\n",
    "from exp.nb_02_callbacks import *"
   ]
  },
  {
   "cell_type": "markdown",
   "metadata": {},
   "source": [
    "# Initial Setup"
   ]
  },
  {
   "cell_type": "code",
   "execution_count": 134,
   "metadata": {},
   "outputs": [],
   "source": [
    "x_train, y_train, x_valid, y_valid = get_data(url=MNIST_URL)\n",
    "train_ds = Dataset(x=x_train, y=y_train)\n",
    "valid_ds = Dataset(x=x_valid, y=y_valid)\n",
    "nh = 50\n",
    "bs = 16\n",
    "c = y_train.max().item() + 1\n",
    "loss_func = F.cross_entropy"
   ]
  },
  {
   "cell_type": "code",
   "execution_count": 135,
   "metadata": {},
   "outputs": [],
   "source": [
    "data = DataBunch(*get_dls(train_ds, valid_ds, bs=bs), c=c)"
   ]
  },
  {
   "cell_type": "code",
   "execution_count": 16,
   "metadata": {},
   "outputs": [],
   "source": [
    "#export\n",
    "def create_learner(model_func, loss_func, data):\n",
    "    return Learner(*model_func(data), loss_func, data)"
   ]
  },
  {
   "cell_type": "code",
   "execution_count": 17,
   "metadata": {},
   "outputs": [
    {
     "name": "stdout",
     "output_type": "stream",
     "text": [
      "epoch=[1/3]:\ttrain: [0.349313125, tensor(0.8955)]\tvalid: [0.2347951904296875, tensor(0.9379)]\n",
      "epoch=[2/3]:\ttrain: [0.21327275390625, tensor(0.9416)]\tvalid: [0.1918232666015625, tensor(0.9496)]\n",
      "epoch=[3/3]:\ttrain: [0.18392302734375, tensor(0.9491)]\tvalid: [0.18071456298828126, tensor(0.9577)]\n"
     ]
    }
   ],
   "source": [
    "learner = create_learner(get_model, loss_func, data)\n",
    "run = Runner(cbs=[AvgStatsCallback(metrics=[accuracy])])\n",
    "run.fit(epochs=3, learner=learner)"
   ]
  },
  {
   "cell_type": "code",
   "execution_count": 20,
   "metadata": {},
   "outputs": [
    {
     "name": "stdout",
     "output_type": "stream",
     "text": [
      "epoch=[1/3]:\ttrain: [0.2807528515625, tensor(0.9129)]\tvalid: [0.1918615478515625, tensor(0.9450)]\n",
      "epoch=[2/3]:\ttrain: [0.153882724609375, tensor(0.9548)]\tvalid: [0.1309697021484375, tensor(0.9631)]\n",
      "epoch=[3/3]:\ttrain: [0.127143310546875, tensor(0.9621)]\tvalid: [0.1352552490234375, tensor(0.9643)]\n"
     ]
    }
   ],
   "source": [
    "learner = create_learner(partial(get_model, lr=0.3), loss_func, data)\n",
    "run = Runner(cbs=[AvgStatsCallback(metrics=[accuracy])])\n",
    "run.fit(epochs=3, learner=learner)"
   ]
  },
  {
   "cell_type": "code",
   "execution_count": 23,
   "metadata": {},
   "outputs": [],
   "source": [
    "#export\n",
    "def get_model_func(lr=0.5):\n",
    "    return partial(get_model, lr=lr)\n",
    "    "
   ]
  },
  {
   "cell_type": "code",
   "execution_count": null,
   "metadata": {},
   "outputs": [],
   "source": []
  },
  {
   "cell_type": "markdown",
   "metadata": {},
   "source": [
    "# Annealing\n",
    "\n",
    "```\n",
    "We define two new callbacks:\n",
    "1. a Recorder: to save track of the loss and our scheduled learning rate\n",
    "2. a ParamScheduler: that can schedule any hyperparameter as long as it's registered in the state_dict of the optimizer\n",
    "```"
   ]
  },
  {
   "cell_type": "code",
   "execution_count": 157,
   "metadata": {},
   "outputs": [],
   "source": [
    "#export\n",
    "class Recorder(Callback):\n",
    "    def begin_fit(self):\n",
    "        self.lrs    = []\n",
    "        self.losses = []\n",
    "        \n",
    "    def after_batch(self):\n",
    "        if not self.in_train:\n",
    "            return\n",
    "        self.lrs.append(self.opt.param_groups[-1][\"lr\"])\n",
    "        self.losses.append(self.loss.detach().cpu())\n",
    "        \n",
    "    def plot_lr(self):\n",
    "        plt.plot(self.lrs)\n",
    "        \n",
    "    def plot_loss(self):\n",
    "        plt.plot(self.losses)\n",
    "        \n",
    "\n",
    "class ParamScheduler(Callback):\n",
    "    _order = 1\n",
    "    def __init__(self, pname, sched_func):\n",
    "        self.pname      = pname\n",
    "        self.sched_func = sched_func\n",
    "    \n",
    "    def set_param(self):\n",
    "        for pg in self.opt.param_groups:\n",
    "            ### print(self.sched_func, self.n_epochs, self.epochs)\n",
    "            pg[self.pname] = self.sched_func(self.n_epochs/self.epochs)\n",
    "            \n",
    "    def begin_batch(self):\n",
    "        if self.in_train:\n",
    "            self.set_param()\n",
    "            "
   ]
  },
  {
   "cell_type": "markdown",
   "metadata": {},
   "source": [
    "```\n",
    "Let's start with a simple linear schedule going from start to end.\n",
    "It returns a function that takes a \"pos\" argument (going from 0 to 1) such that this function goes from \"start\" (at pos=0) to \"end\" (at pos=1) in a linear fashion.\n",
    "```"
   ]
  },
  {
   "cell_type": "code",
   "execution_count": 31,
   "metadata": {},
   "outputs": [],
   "source": [
    "def sched_linear(start, end, pos):\n",
    "    def _inner(start, end, pos):\n",
    "        return start + (end-start)*pos\n",
    "    return partial(_inner, start, end)\n",
    "        "
   ]
  },
  {
   "cell_type": "markdown",
   "metadata": {},
   "source": [
    "```\n",
    "We can refator the above sched_linear function using decorators so that we donot need to create a separate instance of sched_linear for every pos value\n",
    "```"
   ]
  },
  {
   "cell_type": "code",
   "execution_count": 58,
   "metadata": {},
   "outputs": [],
   "source": [
    "#export\n",
    "def annealer(f):\n",
    "    def _inner(start, end):\n",
    "        return partial(f, start, end)\n",
    "    return _inner\n",
    "\n",
    "@annealer\n",
    "def sched_linear(start, end, pos):\n",
    "    return start + (end-start)*pos\n"
   ]
  },
  {
   "cell_type": "code",
   "execution_count": 59,
   "metadata": {},
   "outputs": [
    {
     "data": {
      "text/plain": [
       "functools.partial(<function sched_linear at 0x7f0f7d24ab00>, 1, 2)"
      ]
     },
     "execution_count": 59,
     "metadata": {},
     "output_type": "execute_result"
    }
   ],
   "source": [
    "f = sched_linear(1,2)\n",
    "f"
   ]
  },
  {
   "cell_type": "code",
   "execution_count": 60,
   "metadata": {},
   "outputs": [
    {
     "data": {
      "text/plain": [
       "1.3"
      ]
     },
     "execution_count": 60,
     "metadata": {},
     "output_type": "execute_result"
    }
   ],
   "source": [
    "f(pos=0.3)"
   ]
  },
  {
   "cell_type": "code",
   "execution_count": 61,
   "metadata": {},
   "outputs": [
    {
     "data": {
      "text/plain": [
       "1.3"
      ]
     },
     "execution_count": 61,
     "metadata": {},
     "output_type": "execute_result"
    }
   ],
   "source": [
    "f(0.3)"
   ]
  },
  {
   "cell_type": "code",
   "execution_count": 62,
   "metadata": {},
   "outputs": [
    {
     "data": {
      "text/plain": [
       "1.5"
      ]
     },
     "execution_count": 62,
     "metadata": {},
     "output_type": "execute_result"
    }
   ],
   "source": [
    "f(0.5)"
   ]
  },
  {
   "cell_type": "markdown",
   "metadata": {},
   "source": [
    "```\n",
    "Some more important acheduler functions\n",
    "```"
   ]
  },
  {
   "cell_type": "code",
   "execution_count": 80,
   "metadata": {},
   "outputs": [],
   "source": [
    "#export\n",
    "\n",
    "@annealer\n",
    "def sched_cos(start, end, pos):\n",
    "    return start + (end-start) * (1 + math.cos(math.pi*(1-pos))) / 2.\n",
    "\n",
    "@annealer\n",
    "def sched_no(start, end, pos):\n",
    "    return start\n",
    "\n",
    "@annealer\n",
    "def sched_exp(start, end, pos):\n",
    "    return start * ((end/start) ** pos)\n",
    "    "
   ]
  },
  {
   "cell_type": "code",
   "execution_count": 81,
   "metadata": {},
   "outputs": [
    {
     "data": {
      "image/png": "[encoded data removed]",
      "text/plain": [
       "<Figure size 432x288 with 1 Axes>"
      ]
     },
     "metadata": {
      "needs_background": "light"
     },
     "output_type": "display_data"
    }
   ],
   "source": [
    "annealings = \"NO LINEAR COS EXP\".split(\" \")\n",
    "\n",
    "a = torch.arange(start=0, end=100)\n",
    "p = torch.linspace(start=0.01, end=1, steps=100)\n",
    "\n",
    "fns = [sched_no, sched_linear, sched_cos, sched_exp]\n",
    "for fn, t in zip(fns, annealings):\n",
    "    f = fn(start=2, end=1e-2)\n",
    "    plt.plot(a, [f(i) for i in p], label=t)\n",
    "plt.legend();"
   ]
  },
  {
   "cell_type": "code",
   "execution_count": 85,
   "metadata": {},
   "outputs": [],
   "source": [
    "### in earlier version of Pytorch, a Tensor object did not had \"ndim\" attribute\n",
    "### we can add any attribute to any Python object using property() function.\n",
    "### here we are adding \"ndim\" attribute to Tensor object using the below monkey-patching\n",
    "\n",
    "# torch.Tensor.ndim = property(lambda x: len(x.shape))"
   ]
  },
  {
   "cell_type": "markdown",
   "metadata": {},
   "source": [
    "```\n",
    "In practice we will want to use multiple schedulers and the below function helps us do that\n",
    "```"
   ]
  },
  {
   "cell_type": "code",
   "execution_count": 161,
   "metadata": {},
   "outputs": [],
   "source": [
    "#export\n",
    "\n",
    "def combine_scheds(pcts, scheds):\n",
    "    \"\"\"\n",
    "    pcts  : list of %ages of each scheduler\n",
    "    scheds: list of all schedulers\n",
    "    \"\"\"\n",
    "    assert sum(pcts) == 1\n",
    "    pcts = torch.tensor([0] + listify(pcts))\n",
    "    assert torch.all(pcts >= 0)\n",
    "    pcts = torch.cumsum(input=pcts, dim=0)\n",
    "    def _inner(pos):\n",
    "        \"\"\"pos is a value b/w (0,1)\"\"\"\n",
    "        idx = (pos >= pcts).nonzero().max()\n",
    "        actual_pos = (pos-pcts[idx]) / (pcts[idx+1]-pcts[idx])\n",
    "        return scheds[idx](pos=actual_pos)\n",
    "    return _inner\n"
   ]
  },
  {
   "cell_type": "code",
   "execution_count": 115,
   "metadata": {},
   "outputs": [
    {
     "data": {
      "text/plain": [
       "[<matplotlib.lines.Line2D at 0x7f0f7d1d8a90>]"
      ]
     },
     "execution_count": 115,
     "metadata": {},
     "output_type": "execute_result"
    },
    {
     "data": {
      "image/png": "[encoded data removed]",
      "text/plain": [
       "<Figure size 432x288 with 1 Axes>"
      ]
     },
     "metadata": {
      "needs_background": "light"
     },
     "output_type": "display_data"
    }
   ],
   "source": [
    "### Example of a learning rate scheduler annealing:\n",
    "### using 30% of training budget to go from 0.3 to 0.6 using cosine scheduler\n",
    "### using the rest 70% of the trainign budget to go from 0.6 to 0.2 using another cosine scheduler\n",
    "\n",
    "sched = combine_scheds(pcts=[0.3, 0.7], scheds=[sched_cos(start=0.3, end=0.6), sched_cos(start=0.6, end=0.2)])\n",
    "plt.plot(a, [sched(i) for i in p])"
   ]
  },
  {
   "cell_type": "markdown",
   "metadata": {},
   "source": [
    "```\n",
    "We can use it for trainign quite easily.\n",
    "```"
   ]
  },
  {
   "cell_type": "code",
   "execution_count": 153,
   "metadata": {},
   "outputs": [],
   "source": [
    "cbfs = [Recorder, \n",
    "        partial(AvgStatsCallback, metrics=accuracy),\n",
    "        partial(ParamScheduler, pname=\"lr\", sched_func=sched)]"
   ]
  },
  {
   "cell_type": "code",
   "execution_count": 154,
   "metadata": {},
   "outputs": [
    {
     "data": {
      "text/plain": [
       "[__main__.Recorder,\n",
       " functools.partial(<class 'exp.nb_02_callbacks.AvgStatsCallback'>, metrics=<function accuracy at 0x7f0fc9ad1b90>),\n",
       " functools.partial(<class '__main__.ParamScheduler'>, pname='lr', sched_func=<function combine_scheds.<locals>._inner at 0x7f0f7d236050>)]"
      ]
     },
     "execution_count": 154,
     "metadata": {},
     "output_type": "execute_result"
    }
   ],
   "source": [
    "cbfs"
   ]
  },
  {
   "cell_type": "code",
   "execution_count": 155,
   "metadata": {},
   "outputs": [],
   "source": [
    "bs=512\n",
    "data = DataBunch(*get_dls(train_ds, valid_ds, bs), c=c)"
   ]
  },
  {
   "cell_type": "code",
   "execution_count": 156,
   "metadata": {
    "scrolled": true
   },
   "outputs": [
    {
     "name": "stdout",
     "output_type": "stream",
     "text": [
      "<function combine_scheds.<locals>._inner at 0x7f0f7d236050> 0 2\n",
      "<function combine_scheds.<locals>._inner at 0x7f0f7d236050> 0.01020408163265306 2\n",
      "<function combine_scheds.<locals>._inner at 0x7f0f7d236050> 0.02040816326530612 2\n",
      "<function combine_scheds.<locals>._inner at 0x7f0f7d236050> 0.030612244897959183 2\n",
      "<function combine_scheds.<locals>._inner at 0x7f0f7d236050> 0.04081632653061224 2\n",
      "<function combine_scheds.<locals>._inner at 0x7f0f7d236050> 0.0510204081632653 2\n",
      "<function combine_scheds.<locals>._inner at 0x7f0f7d236050> 0.06122448979591836 2\n",
      "<function combine_scheds.<locals>._inner at 0x7f0f7d236050> 0.07142857142857142 2\n",
      "<function combine_scheds.<locals>._inner at 0x7f0f7d236050> 0.08163265306122448 2\n",
      "<function combine_scheds.<locals>._inner at 0x7f0f7d236050> 0.09183673469387754 2\n",
      "<function combine_scheds.<locals>._inner at 0x7f0f7d236050> 0.1020408163265306 2\n",
      "<function combine_scheds.<locals>._inner at 0x7f0f7d236050> 0.11224489795918366 2\n",
      "<function combine_scheds.<locals>._inner at 0x7f0f7d236050> 0.12244897959183672 2\n",
      "<function combine_scheds.<locals>._inner at 0x7f0f7d236050> 0.13265306122448978 2\n",
      "<function combine_scheds.<locals>._inner at 0x7f0f7d236050> 0.14285714285714285 2\n",
      "<function combine_scheds.<locals>._inner at 0x7f0f7d236050> 0.15306122448979592 2\n",
      "<function combine_scheds.<locals>._inner at 0x7f0f7d236050> 0.163265306122449 2\n",
      "<function combine_scheds.<locals>._inner at 0x7f0f7d236050> 0.17346938775510207 2\n",
      "<function combine_scheds.<locals>._inner at 0x7f0f7d236050> 0.18367346938775514 2\n",
      "<function combine_scheds.<locals>._inner at 0x7f0f7d236050> 0.1938775510204082 2\n",
      "<function combine_scheds.<locals>._inner at 0x7f0f7d236050> 0.20408163265306128 2\n",
      "<function combine_scheds.<locals>._inner at 0x7f0f7d236050> 0.21428571428571436 2\n",
      "<function combine_scheds.<locals>._inner at 0x7f0f7d236050> 0.22448979591836743 2\n",
      "<function combine_scheds.<locals>._inner at 0x7f0f7d236050> 0.2346938775510205 2\n",
      "<function combine_scheds.<locals>._inner at 0x7f0f7d236050> 0.24489795918367357 2\n",
      "<function combine_scheds.<locals>._inner at 0x7f0f7d236050> 0.25510204081632665 2\n",
      "<function combine_scheds.<locals>._inner at 0x7f0f7d236050> 0.2653061224489797 2\n",
      "<function combine_scheds.<locals>._inner at 0x7f0f7d236050> 0.2755102040816328 2\n",
      "<function combine_scheds.<locals>._inner at 0x7f0f7d236050> 0.28571428571428586 2\n",
      "<function combine_scheds.<locals>._inner at 0x7f0f7d236050> 0.29591836734693894 2\n",
      "<function combine_scheds.<locals>._inner at 0x7f0f7d236050> 0.306122448979592 2\n",
      "<function combine_scheds.<locals>._inner at 0x7f0f7d236050> 0.3163265306122451 2\n",
      "<function combine_scheds.<locals>._inner at 0x7f0f7d236050> 0.32653061224489816 2\n",
      "<function combine_scheds.<locals>._inner at 0x7f0f7d236050> 0.3367346938775512 2\n",
      "<function combine_scheds.<locals>._inner at 0x7f0f7d236050> 0.3469387755102043 2\n",
      "<function combine_scheds.<locals>._inner at 0x7f0f7d236050> 0.3571428571428574 2\n",
      "<function combine_scheds.<locals>._inner at 0x7f0f7d236050> 0.36734693877551045 2\n",
      "<function combine_scheds.<locals>._inner at 0x7f0f7d236050> 0.3775510204081635 2\n",
      "<function combine_scheds.<locals>._inner at 0x7f0f7d236050> 0.3877551020408166 2\n",
      "<function combine_scheds.<locals>._inner at 0x7f0f7d236050> 0.39795918367346966 2\n",
      "<function combine_scheds.<locals>._inner at 0x7f0f7d236050> 0.40816326530612274 2\n",
      "<function combine_scheds.<locals>._inner at 0x7f0f7d236050> 0.4183673469387758 2\n",
      "<function combine_scheds.<locals>._inner at 0x7f0f7d236050> 0.4285714285714289 2\n",
      "<function combine_scheds.<locals>._inner at 0x7f0f7d236050> 0.43877551020408195 2\n",
      "<function combine_scheds.<locals>._inner at 0x7f0f7d236050> 0.448979591836735 2\n",
      "<function combine_scheds.<locals>._inner at 0x7f0f7d236050> 0.4591836734693881 2\n",
      "<function combine_scheds.<locals>._inner at 0x7f0f7d236050> 0.46938775510204117 2\n",
      "<function combine_scheds.<locals>._inner at 0x7f0f7d236050> 0.47959183673469424 2\n",
      "<function combine_scheds.<locals>._inner at 0x7f0f7d236050> 0.4897959183673473 2\n",
      "<function combine_scheds.<locals>._inner at 0x7f0f7d236050> 0.5000000000000003 2\n",
      "<function combine_scheds.<locals>._inner at 0x7f0f7d236050> 0.5102040816326534 2\n",
      "<function combine_scheds.<locals>._inner at 0x7f0f7d236050> 0.5204081632653065 2\n",
      "<function combine_scheds.<locals>._inner at 0x7f0f7d236050> 0.5306122448979596 2\n",
      "<function combine_scheds.<locals>._inner at 0x7f0f7d236050> 0.5408163265306126 2\n",
      "<function combine_scheds.<locals>._inner at 0x7f0f7d236050> 0.5510204081632657 2\n",
      "<function combine_scheds.<locals>._inner at 0x7f0f7d236050> 0.5612244897959188 2\n",
      "<function combine_scheds.<locals>._inner at 0x7f0f7d236050> 0.5714285714285718 2\n",
      "<function combine_scheds.<locals>._inner at 0x7f0f7d236050> 0.5816326530612249 2\n",
      "<function combine_scheds.<locals>._inner at 0x7f0f7d236050> 0.591836734693878 2\n",
      "<function combine_scheds.<locals>._inner at 0x7f0f7d236050> 0.6020408163265311 2\n",
      "<function combine_scheds.<locals>._inner at 0x7f0f7d236050> 0.6122448979591841 2\n",
      "<function combine_scheds.<locals>._inner at 0x7f0f7d236050> 0.6224489795918372 2\n",
      "<function combine_scheds.<locals>._inner at 0x7f0f7d236050> 0.6326530612244903 2\n",
      "<function combine_scheds.<locals>._inner at 0x7f0f7d236050> 0.6428571428571433 2\n",
      "<function combine_scheds.<locals>._inner at 0x7f0f7d236050> 0.6530612244897964 2\n",
      "<function combine_scheds.<locals>._inner at 0x7f0f7d236050> 0.6632653061224495 2\n",
      "<function combine_scheds.<locals>._inner at 0x7f0f7d236050> 0.6734693877551026 2\n",
      "<function combine_scheds.<locals>._inner at 0x7f0f7d236050> 0.6836734693877556 2\n",
      "<function combine_scheds.<locals>._inner at 0x7f0f7d236050> 0.6938775510204087 2\n",
      "<function combine_scheds.<locals>._inner at 0x7f0f7d236050> 0.7040816326530618 2\n",
      "<function combine_scheds.<locals>._inner at 0x7f0f7d236050> 0.7142857142857149 2\n",
      "<function combine_scheds.<locals>._inner at 0x7f0f7d236050> 0.7244897959183679 2\n",
      "<function combine_scheds.<locals>._inner at 0x7f0f7d236050> 0.734693877551021 2\n",
      "<function combine_scheds.<locals>._inner at 0x7f0f7d236050> 0.7448979591836741 2\n",
      "<function combine_scheds.<locals>._inner at 0x7f0f7d236050> 0.7551020408163271 2\n",
      "<function combine_scheds.<locals>._inner at 0x7f0f7d236050> 0.7653061224489802 2\n",
      "<function combine_scheds.<locals>._inner at 0x7f0f7d236050> 0.7755102040816333 2\n",
      "<function combine_scheds.<locals>._inner at 0x7f0f7d236050> 0.7857142857142864 2\n",
      "<function combine_scheds.<locals>._inner at 0x7f0f7d236050> 0.7959183673469394 2\n",
      "<function combine_scheds.<locals>._inner at 0x7f0f7d236050> 0.8061224489795925 2\n",
      "<function combine_scheds.<locals>._inner at 0x7f0f7d236050> 0.8163265306122456 2\n",
      "<function combine_scheds.<locals>._inner at 0x7f0f7d236050> 0.8265306122448987 2\n",
      "<function combine_scheds.<locals>._inner at 0x7f0f7d236050> 0.8367346938775517 2\n",
      "<function combine_scheds.<locals>._inner at 0x7f0f7d236050> 0.8469387755102048 2\n",
      "<function combine_scheds.<locals>._inner at 0x7f0f7d236050> 0.8571428571428579 2\n",
      "<function combine_scheds.<locals>._inner at 0x7f0f7d236050> 0.867346938775511 2\n",
      "<function combine_scheds.<locals>._inner at 0x7f0f7d236050> 0.877551020408164 2\n",
      "<function combine_scheds.<locals>._inner at 0x7f0f7d236050> 0.8877551020408171 2\n",
      "<function combine_scheds.<locals>._inner at 0x7f0f7d236050> 0.8979591836734702 2\n",
      "<function combine_scheds.<locals>._inner at 0x7f0f7d236050> 0.9081632653061232 2\n",
      "<function combine_scheds.<locals>._inner at 0x7f0f7d236050> 0.9183673469387763 2\n",
      "<function combine_scheds.<locals>._inner at 0x7f0f7d236050> 0.9285714285714294 2\n",
      "<function combine_scheds.<locals>._inner at 0x7f0f7d236050> 0.9387755102040825 2\n",
      "<function combine_scheds.<locals>._inner at 0x7f0f7d236050> 0.9489795918367355 2\n",
      "<function combine_scheds.<locals>._inner at 0x7f0f7d236050> 0.9591836734693886 2\n",
      "<function combine_scheds.<locals>._inner at 0x7f0f7d236050> 0.9693877551020417 2\n",
      "<function combine_scheds.<locals>._inner at 0x7f0f7d236050> 0.9795918367346947 2\n",
      "<function combine_scheds.<locals>._inner at 0x7f0f7d236050> 0.9897959183673478 2\n",
      "epoch=[1/2]:\ttrain: [0.775781015625, tensor(0.7805)]\tvalid: [0.2986376708984375, tensor(0.9144)]\n",
      "<function combine_scheds.<locals>._inner at 0x7f0f7d236050> 1 2\n",
      "<function combine_scheds.<locals>._inner at 0x7f0f7d236050> 1.010204081632653 2\n",
      "<function combine_scheds.<locals>._inner at 0x7f0f7d236050> 1.020408163265306 2\n",
      "<function combine_scheds.<locals>._inner at 0x7f0f7d236050> 1.0306122448979589 2\n",
      "<function combine_scheds.<locals>._inner at 0x7f0f7d236050> 1.0408163265306118 2\n",
      "<function combine_scheds.<locals>._inner at 0x7f0f7d236050> 1.0510204081632648 2\n",
      "<function combine_scheds.<locals>._inner at 0x7f0f7d236050> 1.0612244897959178 2\n",
      "<function combine_scheds.<locals>._inner at 0x7f0f7d236050> 1.0714285714285707 2\n"
     ]
    },
    {
     "name": "stdout",
     "output_type": "stream",
     "text": [
      "<function combine_scheds.<locals>._inner at 0x7f0f7d236050> 1.0816326530612237 2\n",
      "<function combine_scheds.<locals>._inner at 0x7f0f7d236050> 1.0918367346938767 2\n",
      "<function combine_scheds.<locals>._inner at 0x7f0f7d236050> 1.1020408163265296 2\n",
      "<function combine_scheds.<locals>._inner at 0x7f0f7d236050> 1.1122448979591826 2\n",
      "<function combine_scheds.<locals>._inner at 0x7f0f7d236050> 1.1224489795918355 2\n",
      "<function combine_scheds.<locals>._inner at 0x7f0f7d236050> 1.1326530612244885 2\n",
      "<function combine_scheds.<locals>._inner at 0x7f0f7d236050> 1.1428571428571415 2\n",
      "<function combine_scheds.<locals>._inner at 0x7f0f7d236050> 1.1530612244897944 2\n",
      "<function combine_scheds.<locals>._inner at 0x7f0f7d236050> 1.1632653061224474 2\n",
      "<function combine_scheds.<locals>._inner at 0x7f0f7d236050> 1.1734693877551003 2\n",
      "<function combine_scheds.<locals>._inner at 0x7f0f7d236050> 1.1836734693877533 2\n",
      "<function combine_scheds.<locals>._inner at 0x7f0f7d236050> 1.1938775510204063 2\n",
      "<function combine_scheds.<locals>._inner at 0x7f0f7d236050> 1.2040816326530592 2\n",
      "<function combine_scheds.<locals>._inner at 0x7f0f7d236050> 1.2142857142857122 2\n",
      "<function combine_scheds.<locals>._inner at 0x7f0f7d236050> 1.2244897959183652 2\n",
      "<function combine_scheds.<locals>._inner at 0x7f0f7d236050> 1.2346938775510181 2\n",
      "<function combine_scheds.<locals>._inner at 0x7f0f7d236050> 1.244897959183671 2\n",
      "<function combine_scheds.<locals>._inner at 0x7f0f7d236050> 1.255102040816324 2\n",
      "<function combine_scheds.<locals>._inner at 0x7f0f7d236050> 1.265306122448977 2\n",
      "<function combine_scheds.<locals>._inner at 0x7f0f7d236050> 1.27551020408163 2\n",
      "<function combine_scheds.<locals>._inner at 0x7f0f7d236050> 1.285714285714283 2\n",
      "<function combine_scheds.<locals>._inner at 0x7f0f7d236050> 1.2959183673469359 2\n",
      "<function combine_scheds.<locals>._inner at 0x7f0f7d236050> 1.3061224489795888 2\n",
      "<function combine_scheds.<locals>._inner at 0x7f0f7d236050> 1.3163265306122418 2\n",
      "<function combine_scheds.<locals>._inner at 0x7f0f7d236050> 1.3265306122448948 2\n",
      "<function combine_scheds.<locals>._inner at 0x7f0f7d236050> 1.3367346938775477 2\n",
      "<function combine_scheds.<locals>._inner at 0x7f0f7d236050> 1.3469387755102007 2\n",
      "<function combine_scheds.<locals>._inner at 0x7f0f7d236050> 1.3571428571428537 2\n",
      "<function combine_scheds.<locals>._inner at 0x7f0f7d236050> 1.3673469387755066 2\n",
      "<function combine_scheds.<locals>._inner at 0x7f0f7d236050> 1.3775510204081596 2\n",
      "<function combine_scheds.<locals>._inner at 0x7f0f7d236050> 1.3877551020408125 2\n",
      "<function combine_scheds.<locals>._inner at 0x7f0f7d236050> 1.3979591836734655 2\n",
      "<function combine_scheds.<locals>._inner at 0x7f0f7d236050> 1.4081632653061185 2\n",
      "<function combine_scheds.<locals>._inner at 0x7f0f7d236050> 1.4183673469387714 2\n",
      "<function combine_scheds.<locals>._inner at 0x7f0f7d236050> 1.4285714285714244 2\n",
      "<function combine_scheds.<locals>._inner at 0x7f0f7d236050> 1.4387755102040773 2\n",
      "<function combine_scheds.<locals>._inner at 0x7f0f7d236050> 1.4489795918367303 2\n",
      "<function combine_scheds.<locals>._inner at 0x7f0f7d236050> 1.4591836734693833 2\n",
      "<function combine_scheds.<locals>._inner at 0x7f0f7d236050> 1.4693877551020362 2\n",
      "<function combine_scheds.<locals>._inner at 0x7f0f7d236050> 1.4795918367346892 2\n",
      "<function combine_scheds.<locals>._inner at 0x7f0f7d236050> 1.4897959183673422 2\n",
      "<function combine_scheds.<locals>._inner at 0x7f0f7d236050> 1.4999999999999951 2\n",
      "<function combine_scheds.<locals>._inner at 0x7f0f7d236050> 1.510204081632648 2\n",
      "<function combine_scheds.<locals>._inner at 0x7f0f7d236050> 1.520408163265301 2\n",
      "<function combine_scheds.<locals>._inner at 0x7f0f7d236050> 1.530612244897954 2\n",
      "<function combine_scheds.<locals>._inner at 0x7f0f7d236050> 1.540816326530607 2\n",
      "<function combine_scheds.<locals>._inner at 0x7f0f7d236050> 1.55102040816326 2\n",
      "<function combine_scheds.<locals>._inner at 0x7f0f7d236050> 1.5612244897959129 2\n",
      "<function combine_scheds.<locals>._inner at 0x7f0f7d236050> 1.5714285714285658 2\n",
      "<function combine_scheds.<locals>._inner at 0x7f0f7d236050> 1.5816326530612188 2\n",
      "<function combine_scheds.<locals>._inner at 0x7f0f7d236050> 1.5918367346938718 2\n",
      "<function combine_scheds.<locals>._inner at 0x7f0f7d236050> 1.6020408163265247 2\n",
      "<function combine_scheds.<locals>._inner at 0x7f0f7d236050> 1.6122448979591777 2\n",
      "<function combine_scheds.<locals>._inner at 0x7f0f7d236050> 1.6224489795918307 2\n",
      "<function combine_scheds.<locals>._inner at 0x7f0f7d236050> 1.6326530612244836 2\n",
      "<function combine_scheds.<locals>._inner at 0x7f0f7d236050> 1.6428571428571366 2\n",
      "<function combine_scheds.<locals>._inner at 0x7f0f7d236050> 1.6530612244897895 2\n",
      "<function combine_scheds.<locals>._inner at 0x7f0f7d236050> 1.6632653061224425 2\n",
      "<function combine_scheds.<locals>._inner at 0x7f0f7d236050> 1.6734693877550955 2\n",
      "<function combine_scheds.<locals>._inner at 0x7f0f7d236050> 1.6836734693877484 2\n",
      "<function combine_scheds.<locals>._inner at 0x7f0f7d236050> 1.6938775510204014 2\n",
      "<function combine_scheds.<locals>._inner at 0x7f0f7d236050> 1.7040816326530543 2\n",
      "<function combine_scheds.<locals>._inner at 0x7f0f7d236050> 1.7142857142857073 2\n",
      "<function combine_scheds.<locals>._inner at 0x7f0f7d236050> 1.7244897959183603 2\n",
      "<function combine_scheds.<locals>._inner at 0x7f0f7d236050> 1.7346938775510132 2\n",
      "<function combine_scheds.<locals>._inner at 0x7f0f7d236050> 1.7448979591836662 2\n",
      "<function combine_scheds.<locals>._inner at 0x7f0f7d236050> 1.7551020408163192 2\n",
      "<function combine_scheds.<locals>._inner at 0x7f0f7d236050> 1.7653061224489721 2\n",
      "<function combine_scheds.<locals>._inner at 0x7f0f7d236050> 1.775510204081625 2\n",
      "<function combine_scheds.<locals>._inner at 0x7f0f7d236050> 1.785714285714278 2\n",
      "<function combine_scheds.<locals>._inner at 0x7f0f7d236050> 1.795918367346931 2\n",
      "<function combine_scheds.<locals>._inner at 0x7f0f7d236050> 1.806122448979584 2\n",
      "<function combine_scheds.<locals>._inner at 0x7f0f7d236050> 1.816326530612237 2\n",
      "<function combine_scheds.<locals>._inner at 0x7f0f7d236050> 1.8265306122448899 2\n",
      "<function combine_scheds.<locals>._inner at 0x7f0f7d236050> 1.8367346938775428 2\n",
      "<function combine_scheds.<locals>._inner at 0x7f0f7d236050> 1.8469387755101958 2\n",
      "<function combine_scheds.<locals>._inner at 0x7f0f7d236050> 1.8571428571428488 2\n",
      "<function combine_scheds.<locals>._inner at 0x7f0f7d236050> 1.8673469387755017 2\n",
      "<function combine_scheds.<locals>._inner at 0x7f0f7d236050> 1.8775510204081547 2\n",
      "<function combine_scheds.<locals>._inner at 0x7f0f7d236050> 1.8877551020408077 2\n",
      "<function combine_scheds.<locals>._inner at 0x7f0f7d236050> 1.8979591836734606 2\n",
      "<function combine_scheds.<locals>._inner at 0x7f0f7d236050> 1.9081632653061136 2\n",
      "<function combine_scheds.<locals>._inner at 0x7f0f7d236050> 1.9183673469387665 2\n",
      "<function combine_scheds.<locals>._inner at 0x7f0f7d236050> 1.9285714285714195 2\n",
      "<function combine_scheds.<locals>._inner at 0x7f0f7d236050> 1.9387755102040725 2\n",
      "<function combine_scheds.<locals>._inner at 0x7f0f7d236050> 1.9489795918367254 2\n",
      "<function combine_scheds.<locals>._inner at 0x7f0f7d236050> 1.9591836734693784 2\n",
      "<function combine_scheds.<locals>._inner at 0x7f0f7d236050> 1.9693877551020313 2\n",
      "<function combine_scheds.<locals>._inner at 0x7f0f7d236050> 1.9795918367346843 2\n",
      "<function combine_scheds.<locals>._inner at 0x7f0f7d236050> 1.9897959183673373 2\n",
      "epoch=[2/2]:\ttrain: [0.29052046875, tensor(0.9162)]\tvalid: [0.2487686767578125, tensor(0.9271)]\n"
     ]
    }
   ],
   "source": [
    "learner = create_learner(model_func=get_model_func(lr=0.3), loss_func=loss_func, data=data)\n",
    "run = Runner(cb_funcs=cbfs)\n",
    "run.fit(epochs=2, learner=learner)\n"
   ]
  },
  {
   "cell_type": "code",
   "execution_count": 150,
   "metadata": {},
   "outputs": [
    {
     "data": {
      "image/png": "[encoded data removed]",
      "text/plain": [
       "<Figure size 432x288 with 1 Axes>"
      ]
     },
     "metadata": {
      "needs_background": "light"
     },
     "output_type": "display_data"
    }
   ],
   "source": [
    "run.recorder.plot_lr()"
   ]
  },
  {
   "cell_type": "code",
   "execution_count": 151,
   "metadata": {},
   "outputs": [
    {
     "data": {
      "image/png": "[encoded data removed]",
      "text/plain": [
       "<Figure size 432x288 with 1 Axes>"
      ]
     },
     "metadata": {
      "needs_background": "light"
     },
     "output_type": "display_data"
    }
   ],
   "source": [
    "run.recorder.plot_loss()"
   ]
  },
  {
   "cell_type": "code",
   "execution_count": null,
   "metadata": {},
   "outputs": [],
   "source": []
  },
  {
   "cell_type": "markdown",
   "metadata": {},
   "source": [
    "# Export"
   ]
  },
  {
   "cell_type": "code",
   "execution_count": 166,
   "metadata": {},
   "outputs": [
    {
     "name": "stdout",
     "output_type": "stream",
     "text": [
      "Converted imflash217__02_anneal.ipynb to exp/nb_02_anneal.py\r\n",
      "Converted imflash217__02_anneal.ipynb to exp/nb_02_anneal.py\r\n",
      "Converted imflash217__02_anneal.ipynb to exp/nb_02_anneal.py\r\n",
      "Converted imflash217__02_anneal.ipynb to exp/nb_02_anneal.py\r\n",
      "Converted imflash217__02_anneal.ipynb to exp/nb_02_anneal.py\r\n",
      "Converted imflash217__02_anneal.ipynb to exp/nb_02_anneal.py\r\n",
      "Converted imflash217__02_anneal.ipynb to exp/nb_02_anneal.py\r\n"
     ]
    }
   ],
   "source": [
    "!python notebook_to_script.py imflash217__02_anneal.ipynb"
   ]
  },
  {
   "cell_type": "code",
   "execution_count": null,
   "metadata": {},
   "outputs": [],
   "source": []
  },
  {
   "cell_type": "code",
   "execution_count": null,
   "metadata": {},
   "outputs": [],
   "source": []
  },
  {
   "cell_type": "code",
   "execution_count": null,
   "metadata": {},
   "outputs": [],
   "source": []
  },
  {
   "cell_type": "code",
   "execution_count": null,
   "metadata": {},
   "outputs": [],
   "source": []
  },
  {
   "cell_type": "code",
   "execution_count": 94,
   "metadata": {},
   "outputs": [],
   "source": [
    "pct = [0.3, 0.7]\n",
    "pct = torch.tensor([0] + listify(pct))\n",
    "pct = torch.cumsum(pct, 0)"
   ]
  },
  {
   "cell_type": "code",
   "execution_count": 100,
   "metadata": {},
   "outputs": [
    {
     "data": {
      "text/plain": [
       "tensor(2)"
      ]
     },
     "execution_count": 100,
     "metadata": {},
     "output_type": "execute_result"
    }
   ],
   "source": [
    "pos = 2\n",
    "(pos >= pct).nonzero().max()"
   ]
  }
 ],
 "metadata": {
  "kernelspec": {
   "display_name": "Python 3",
   "language": "python",
   "name": "python3"
  },
  "language_info": {
   "codemirror_mode": {
    "name": "ipython",
    "version": 3
   },
   "file_extension": ".py",
   "mimetype": "text/x-python",
   "name": "python",
   "nbconvert_exporter": "python",
   "pygments_lexer": "ipython3",
   "version": "3.7.4"
  },
  "latex_envs": {
   "LaTeX_envs_menu_present": true,
   "autoclose": false,
   "autocomplete": true,
   "bibliofile": "biblio.bib",
   "cite_by": "apalike",
   "current_citInitial": 1,
   "eqLabelWithNumbers": true,
   "eqNumInitial": 1,
   "hotkeys": {
    "equation": "Ctrl-E",
    "itemize": "Ctrl-I"
   },
   "labels_anchors": false,
   "latex_user_defs": false,
   "report_style_numbering": false,
   "user_envs_cfg": false
  },
  "toc": {
   "base_numbering": 1,
   "nav_menu": {},
   "number_sections": true,
   "sideBar": true,
   "skip_h1_title": false,
   "title_cell": "Table of Contents",
   "title_sidebar": "Contents",
   "toc_cell": false,
   "toc_position": {},
   "toc_section_display": true,
   "toc_window_display": false
  }
 },
 "nbformat": 4,
 "nbformat_minor": 2
}
