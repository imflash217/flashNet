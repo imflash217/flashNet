{
 "cells": [
  {
   "cell_type": "code",
   "execution_count": 1,
   "metadata": {},
   "outputs": [],
   "source": [
    "%load_ext autoreload\n",
    "%autoreload 2\n",
    "\n",
    "%matplotlib inline"
   ]
  },
  {
   "cell_type": "code",
   "execution_count": 2,
   "metadata": {},
   "outputs": [],
   "source": [
    "#export\n",
    "from exp.nb_03_batchnorm import *"
   ]
  },
  {
   "cell_type": "code",
   "execution_count": null,
   "metadata": {},
   "outputs": [],
   "source": []
  },
  {
   "cell_type": "markdown",
   "metadata": {},
   "source": [
    "# Layerwise Sequential Unit Variance (LSUV)"
   ]
  },
  {
   "cell_type": "code",
   "execution_count": 3,
   "metadata": {},
   "outputs": [],
   "source": [
    "x_train, y_train, x_valid, y_valid = get_data(url=MNIST_URL)\n",
    "\n",
    "x_train, x_valid = normalize_to(x_train, x_valid)\n",
    "train_ds = Dataset(x_train, y_train)\n",
    "valid_ds = Dataset(x_valid, y_valid)\n",
    "\n",
    "nh = 50,\n",
    "bs = 512\n",
    "c = y_train.max().item() + 1\n",
    "loss_func = F.cross_entropy\n",
    "\n",
    "data = DataBunch(*get_dls(train_ds, valid_ds, bs=bs), c=c)\n"
   ]
  },
  {
   "cell_type": "code",
   "execution_count": 4,
   "metadata": {},
   "outputs": [],
   "source": [
    "mnist_view = view_tfm(1, 28, 28)\n",
    "cbfs = [Recorder,\n",
    "        partial(AvgStatsCallback, accuracy),\n",
    "        partial(BatchTransformXCallback, mnist_view)]"
   ]
  },
  {
   "cell_type": "code",
   "execution_count": 5,
   "metadata": {},
   "outputs": [],
   "source": [
    "nfs = [8, 16, 32, 64, 64]"
   ]
  },
  {
   "cell_type": "code",
   "execution_count": 6,
   "metadata": {},
   "outputs": [],
   "source": [
    "class ConvLayer(torch.nn.Module):\n",
    "    def __init__(self, ni, nf, ks=3, stride=2, sub=0., **kwargs):\n",
    "        super().__init__()\n",
    "        self.conv = torch.nn.Conv2d(ni, nf, ks, stride=stride, padding=ks//2, bias=True)\n",
    "        self.relu = GeneralReLU(sub=sub, **kwargs)\n",
    "    \n",
    "    def forward(self, x):\n",
    "        return self.relu(self.conv(x))\n",
    "    \n",
    "    @property\n",
    "    def bias(self):\n",
    "        return -self.relu.sub\n",
    "    \n",
    "    @bias.setter\n",
    "    def bias(self, v):\n",
    "        self.relu.sub = -v\n",
    "        \n",
    "    @property\n",
    "    def weight(self):\n",
    "        return self.conv.weight        "
   ]
  },
  {
   "cell_type": "code",
   "execution_count": 7,
   "metadata": {},
   "outputs": [],
   "source": [
    "learner, run = get_learn_run(data=data, nfs=nfs, lr=0.6, layer=ConvLayer, cbs=cbfs)"
   ]
  },
  {
   "cell_type": "code",
   "execution_count": 8,
   "metadata": {},
   "outputs": [
    {
     "name": "stdout",
     "output_type": "stream",
     "text": [
      "epoch=[0/2]:\ttrain: [1.92355484375, tensor(0.3376)]\tvalid: [0.593430224609375, tensor(0.8023)]\n",
      "epoch=[1/2]:\ttrain: [0.31706408203125, tensor(0.9010)]\tvalid: [0.289682470703125, tensor(0.9099)]\n"
     ]
    }
   ],
   "source": [
    "run.fit(epochs=2, learner=learner)"
   ]
  },
  {
   "cell_type": "markdown",
   "metadata": {},
   "source": [
    "```\n",
    "Now we recreate our model and try with LSUV. \n",
    "Hopefully we'll get better results.\n",
    "```"
   ]
  },
  {
   "cell_type": "code",
   "execution_count": 9,
   "metadata": {},
   "outputs": [],
   "source": [
    "learner, run = get_learn_run(data=data, nfs=nfs, lr=0.6, layer=ConvLayer, cbs=cbfs)"
   ]
  },
  {
   "cell_type": "markdown",
   "metadata": {},
   "source": [
    "```\n",
    "We only want the outputs of Convolutional or Linear layers. To find them we need recursive procedure.\n",
    "We can use sum(list, []) to concatenate the lists of function finds.\n",
    "(sum applies the + operator b/w the elements of list, beginning with initial state in the 2nd argument)\n",
    "\n",
    "```"
   ]
  },
  {
   "cell_type": "code",
   "execution_count": 14,
   "metadata": {},
   "outputs": [],
   "source": [
    "#export\n",
    "def get_batch(dl, run):\n",
    "    run.xb, run.yb = next(iter(dl))\n",
    "    for cb in run.cbs:\n",
    "        cb.set_runner(run)\n",
    "    run(\"begin_batch\")\n",
    "    return run.xb, run.yb"
   ]
  },
  {
   "cell_type": "code",
   "execution_count": 15,
   "metadata": {},
   "outputs": [],
   "source": [
    "xb, yb = get_batch(data.train_dl, run)"
   ]
  },
  {
   "cell_type": "code",
   "execution_count": 16,
   "metadata": {},
   "outputs": [],
   "source": [
    "#export\n",
    "def find_modules(module, cond):\n",
    "    if cond(module):\n",
    "        return [module]\n",
    "    return sum([find_modules(m, cond) for m in module.children()], [])\n",
    "\n",
    "def is_lin_layer(l):\n",
    "    lin_layers = (torch.nn.Conv1d, torch.nn.Conv2d, torch.nn.Conv3d, torch.nn.Linear, torch.nn.ReLU)\n",
    "    return isinstance(l, lin_layers)"
   ]
  },
  {
   "cell_type": "code",
   "execution_count": 17,
   "metadata": {},
   "outputs": [],
   "source": [
    "mods = find_modules(module=learner.model, cond=lambda m: isinstance(m, ConvLayer))"
   ]
  },
  {
   "cell_type": "code",
   "execution_count": 18,
   "metadata": {},
   "outputs": [
    {
     "data": {
      "text/plain": [
       "[ConvLayer(\n",
       "   (conv): Conv2d(1, 8, kernel_size=(5, 5), stride=(2, 2), padding=(2, 2))\n",
       "   (relu): GeneralReLU()\n",
       " ), ConvLayer(\n",
       "   (conv): Conv2d(8, 16, kernel_size=(3, 3), stride=(2, 2), padding=(1, 1))\n",
       "   (relu): GeneralReLU()\n",
       " ), ConvLayer(\n",
       "   (conv): Conv2d(16, 32, kernel_size=(3, 3), stride=(2, 2), padding=(1, 1))\n",
       "   (relu): GeneralReLU()\n",
       " ), ConvLayer(\n",
       "   (conv): Conv2d(32, 64, kernel_size=(3, 3), stride=(2, 2), padding=(1, 1))\n",
       "   (relu): GeneralReLU()\n",
       " ), ConvLayer(\n",
       "   (conv): Conv2d(64, 64, kernel_size=(3, 3), stride=(2, 2), padding=(1, 1))\n",
       "   (relu): GeneralReLU()\n",
       " )]"
      ]
     },
     "execution_count": 18,
     "metadata": {},
     "output_type": "execute_result"
    }
   ],
   "source": [
    "mods"
   ]
  },
  {
   "cell_type": "markdown",
   "metadata": {},
   "source": [
    "```\n",
    "This is the helper function to grab the mean & std of the output of a hooked layer\n",
    "```"
   ]
  },
  {
   "cell_type": "code",
   "execution_count": 19,
   "metadata": {},
   "outputs": [],
   "source": [
    "def append_stat(hook, mod, inp, out):\n",
    "    d = out.data\n",
    "    hook.mean = d.mean().item()\n",
    "    hook.std  = d.std().item()"
   ]
  },
  {
   "cell_type": "markdown",
   "metadata": {},
   "source": [
    "```\n",
    "Now we can look at the mean & std of the Conv layers of the model.\n",
    "```"
   ]
  },
  {
   "cell_type": "code",
   "execution_count": 20,
   "metadata": {},
   "outputs": [
    {
     "name": "stdout",
     "output_type": "stream",
     "text": [
      "0.4540443420410156 0.9798216819763184\n",
      "0.36190351843833923 0.68576979637146\n",
      "0.3136413097381592 0.5385108590126038\n",
      "0.28830426931381226 0.4851055443286896\n",
      "0.20897021889686584 0.31631138920783997\n"
     ]
    }
   ],
   "source": [
    "with Hooks(mods, append_stat) as hooks:\n",
    "    learner.model(xb)\n",
    "    for hook in hooks:\n",
    "        print(hook.mean, hook.std)"
   ]
  },
  {
   "cell_type": "markdown",
   "metadata": {},
   "source": [
    "```\n",
    "We first adjust the bias term to make the mean 0, then we will adjust the std to make it 1. (with a threshold of 1e-3).\n",
    "The \"learner.model(xb) is not None\" clause is just there to pass \"xb\" through \"model\" and compute all the activations so that the hooks get updated.\n",
    "```"
   ]
  },
  {
   "cell_type": "code",
   "execution_count": 21,
   "metadata": {},
   "outputs": [],
   "source": [
    "#export\n",
    "def lsuv_module(module, xb):\n",
    "    h = Hook(module, append_stat)\n",
    "    \n",
    "    while learner.model(xb) is not None and abs(h.mean) > 1e-3:\n",
    "        module.bias -= h.mean\n",
    "    while learner.model(xb) is not None and abs(h.std-1) > 1e-3:\n",
    "        module.weight.data /= h.std\n",
    "        \n",
    "    h.remove()\n",
    "    return h.mean, h.std"
   ]
  },
  {
   "cell_type": "markdown",
   "metadata": {},
   "source": [
    "```\n",
    "We execute that initialization on all conv layers in order\n",
    "```"
   ]
  },
  {
   "cell_type": "code",
   "execution_count": 22,
   "metadata": {},
   "outputs": [
    {
     "name": "stdout",
     "output_type": "stream",
     "text": [
      "(0.009352052584290504, 1.0)\n",
      "(0.18078379333019257, 1.0)\n",
      "(0.15545712411403656, 1.0)\n",
      "(0.14422819018363953, 1.0)\n",
      "(0.3141314685344696, 1.0)\n"
     ]
    }
   ],
   "source": [
    "for mod in mods:\n",
    "    print(lsuv_module(mod, xb))"
   ]
  },
  {
   "cell_type": "markdown",
   "metadata": {},
   "source": [
    "```\n",
    "NOTE: the mean doesnot stay at 0; bcoz we change the std after by scaling the weight.\n",
    "```"
   ]
  },
  {
   "cell_type": "markdown",
   "metadata": {},
   "source": [
    "```\n",
    "NOTE: Now our trainign is beginning on better grounds... :)\n",
    "```"
   ]
  },
  {
   "cell_type": "code",
   "execution_count": 23,
   "metadata": {},
   "outputs": [
    {
     "name": "stdout",
     "output_type": "stream",
     "text": [
      "epoch=[0/2]:\ttrain: [0.5126955078125, tensor(0.8355)]\tvalid: [0.1474990234375, tensor(0.9528)]\n",
      "epoch=[1/2]:\ttrain: [0.11361818359375, tensor(0.9644)]\tvalid: [0.09101828002929688, tensor(0.9719)]\n",
      "CPU times: user 30.1 s, sys: 8.16 s, total: 38.3 s\n",
      "Wall time: 13.2 s\n"
     ]
    }
   ],
   "source": [
    "%time run.fit(epochs=2, learner=learner)"
   ]
  },
  {
   "cell_type": "markdown",
   "metadata": {},
   "source": [
    "```\n",
    "We can see from above output that the training & valid accuracy has also improved.\n",
    "```"
   ]
  },
  {
   "cell_type": "markdown",
   "metadata": {},
   "source": [
    "```\n",
    "LSUV is particularly useful for more complex and deeper architectures that are hard to initialize to get unit variance at the last layer\n",
    "```"
   ]
  },
  {
   "cell_type": "markdown",
   "metadata": {},
   "source": [
    "# Export"
   ]
  },
  {
   "cell_type": "code",
   "execution_count": 24,
   "metadata": {},
   "outputs": [
    {
     "name": "stdout",
     "output_type": "stream",
     "text": [
      "Converted imflash217__04_lsuv.ipynb to exp/nb_04_lsuv.py\r\n",
      "Converted imflash217__04_lsuv.ipynb to exp/nb_04_lsuv.py\r\n",
      "Converted imflash217__04_lsuv.ipynb to exp/nb_04_lsuv.py\r\n",
      "Converted imflash217__04_lsuv.ipynb to exp/nb_04_lsuv.py\r\n"
     ]
    }
   ],
   "source": [
    "!python notebook_to_script.py imflash217__04_lsuv.ipynb"
   ]
  },
  {
   "cell_type": "code",
   "execution_count": null,
   "metadata": {},
   "outputs": [],
   "source": []
  }
 ],
 "metadata": {
  "kernelspec": {
   "display_name": "Python 3",
   "language": "python",
   "name": "python3"
  },
  "language_info": {
   "codemirror_mode": {
    "name": "ipython",
    "version": 3
   },
   "file_extension": ".py",
   "mimetype": "text/x-python",
   "name": "python",
   "nbconvert_exporter": "python",
   "pygments_lexer": "ipython3",
   "version": "3.7.4"
  },
  "latex_envs": {
   "LaTeX_envs_menu_present": true,
   "autoclose": false,
   "autocomplete": true,
   "bibliofile": "biblio.bib",
   "cite_by": "apalike",
   "current_citInitial": 1,
   "eqLabelWithNumbers": true,
   "eqNumInitial": 1,
   "hotkeys": {
    "equation": "Ctrl-E",
    "itemize": "Ctrl-I"
   },
   "labels_anchors": false,
   "latex_user_defs": false,
   "report_style_numbering": false,
   "user_envs_cfg": false
  },
  "toc": {
   "base_numbering": 1,
   "nav_menu": {},
   "number_sections": true,
   "sideBar": true,
   "skip_h1_title": false,
   "title_cell": "Table of Contents",
   "title_sidebar": "Contents",
   "toc_cell": false,
   "toc_position": {},
   "toc_section_display": true,
   "toc_window_display": false
  }
 },
 "nbformat": 4,
 "nbformat_minor": 2
}
